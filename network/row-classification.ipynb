{
 "cells": [
  {
   "cell_type": "code",
   "execution_count": 1,
   "metadata": {},
   "outputs": [],
   "source": [
    "from finalstep import Datasheet"
   ]
  },
  {
   "cell_type": "markdown",
   "metadata": {},
   "source": [
    "# Labelling\n",
    "\n",
    "The first goal is to get some labelled data for training and testing purposes."
   ]
  },
  {
   "cell_type": "code",
   "execution_count": 2,
   "metadata": {},
   "outputs": [],
   "source": [
    "curr_ds = Datasheet(\n",
    "            path_to_pdf=\"../extraction-data/pdfs/\" + \"Allesun_AV-125P\" + \".pdf\",\n",
    "            path_to_excel=\"../extraction-data/pdfs/temp/\" + \"Allesun_AV-125P\" + \".xlsx\",\n",
    "            path_to_clf=\"../extraction-data/models/\" + \"nb_classifier.pickle\",\n",
    "            path_to_vec=\"../extraction-data/models/\" + \"vectoriser.pickle\"\n",
    "        )"
   ]
  },
  {
   "cell_type": "code",
   "execution_count": 3,
   "metadata": {},
   "outputs": [
    {
     "name": "stdout",
     "output_type": "stream",
     "text": [
      "      0       1       2       3       4       5       6       7       8\n",
      "0   Eff  20.00%  19.80%  19.60%  19.40%  19.20%  19.00%  18.80%  18.60%\n",
      "1  Pmax  3.078W  3.047W  3.017W  2.986W  2.955W  2.924W  2.893W  2.863W\n",
      "2   Vmp  0.575V  0.570V  0.560V  0.550V  0.545V  0.540V  0.530V  0.530V\n",
      "3   Imp  5.353A  5.346A  5.388A  5.429A  5.422A  5.415A  5.408A  5.401A\n",
      "4   Voc  0.665V  0.660V  0.655V  0.650V  0.645V  0.640V  0.635V  0.635V\n",
      "5   Isc  5.997A  5.948A  5.901A  5.851A  5.803A  5.753A  5.802A  5.744A\n"
     ]
    }
   ],
   "source": [
    "elec_table = []\n",
    "\n",
    "for table in curr_ds.tables:\n",
    "            if table.pred_class == 'e':\n",
    "                elec_table.append(table)\n",
    "                print(table.raw_df.T)"
   ]
  },
  {
   "cell_type": "code",
   "execution_count": null,
   "metadata": {},
   "outputs": [],
   "source": []
  }
 ],
 "metadata": {
  "kernelspec": {
   "display_name": "Python 3",
   "language": "python",
   "name": "python3"
  },
  "language_info": {
   "codemirror_mode": {
    "name": "ipython",
    "version": 3
   },
   "file_extension": ".py",
   "mimetype": "text/x-python",
   "name": "python",
   "nbconvert_exporter": "python",
   "pygments_lexer": "ipython3",
   "version": "3.7.16"
  },
  "orig_nbformat": 4
 },
 "nbformat": 4,
 "nbformat_minor": 2
}
