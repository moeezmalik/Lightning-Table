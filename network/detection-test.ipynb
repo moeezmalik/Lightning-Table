{
 "cells": [
  {
   "cell_type": "code",
   "execution_count": 1,
   "metadata": {},
   "outputs": [
    {
     "name": "stderr",
     "output_type": "stream",
     "text": [
      "/usr/local/anaconda3/envs/Thesis/lib/python3.7/site-packages/tqdm/auto.py:22: TqdmWarning: IProgress not found. Please update jupyter and ipywidgets. See https://ipywidgets.readthedocs.io/en/stable/user_install.html\n",
      "  from .autonotebook import tqdm as notebook_tqdm\n"
     ]
    }
   ],
   "source": [
    "# iPython Setting\n",
    "%load_ext autoreload\n",
    "%autoreload 2\n",
    "\n",
    "from datamodules import TableDatasetModule\n",
    "from models import get_model\n",
    "import torch\n",
    "from pytorch_lightning import Trainer"
   ]
  },
  {
   "cell_type": "code",
   "execution_count": 2,
   "metadata": {},
   "outputs": [],
   "source": [
    "path_to_dataset = \"../datasets/cellmodules-2/csv/\"\n",
    "path_to_ckpt = \"../inference-checkpoints/best-fasterrcnn.ckpt\"\n",
    "\n",
    "model_name = \"VanillaFasterRCNN\""
   ]
  },
  {
   "cell_type": "code",
   "execution_count": 3,
   "metadata": {},
   "outputs": [
    {
     "name": "stdout",
     "output_type": "stream",
     "text": [
      "Loaded Successfully\n"
     ]
    }
   ],
   "source": [
    "vanilla_model = get_model(model_name=model_name)\n",
    "    \n",
    "# Check if the correct model name was specified\n",
    "if vanilla_model is None:\n",
    "    print(\"Model with the name: \" + model_name + \" not found.\")\n",
    "    \n",
    "\n",
    "# Load the model with the checkpoint weights\n",
    "model = vanilla_model.load_from_checkpoint(path_to_ckpt)\n",
    "\n",
    "# Move the model to appropriate storage i.e. RAM if only CPU is\n",
    "# available and VRAM if only GPU is available\n",
    "device = torch.device(\"cuda\" if torch.cuda.is_available() else \"cpu\")\n",
    "model.to(device)\n",
    "\n",
    "print(\"Loaded Successfully\")"
   ]
  },
  {
   "cell_type": "code",
   "execution_count": 17,
   "metadata": {},
   "outputs": [
    {
     "name": "stdout",
     "output_type": "stream",
     "text": [
      "\n",
      "Dataset Information\n",
      "Total Images in Dataset: 216\n",
      "Number of Training Images: 173\n",
      "Number of Evaluation Images: 43\n",
      "\n",
      "\n",
      "TYPE\n",
      "../datasets/cellmodules-2/csv/images/image_178.jpg\n",
      "../datasets/cellmodules-2/csv/images/image_226.jpg\n",
      "../datasets/cellmodules-2/csv/images/image_97.jpg\n",
      "../datasets/cellmodules-2/csv/images/image_163.jpg\n",
      "../datasets/cellmodules-2/csv/images/image_8.jpg\n",
      "../datasets/cellmodules-2/csv/images/image_16.jpg\n",
      "../datasets/cellmodules-2/csv/images/image_108.jpg\n",
      "../datasets/cellmodules-2/csv/images/image_231.jpg\n",
      "../datasets/cellmodules-2/csv/images/image_185.jpg\n",
      "../datasets/cellmodules-2/csv/images/image_206.jpg\n"
     ]
    }
   ],
   "source": [
    "dm = TableDatasetModule(\n",
    "    path=path_to_dataset,\n",
    "    num_workers=2,\n",
    "    batch_size=2\n",
    ")\n",
    "\n",
    "dm.prepare_data()\n",
    "dm.setup(stage='fit')\n",
    "\n",
    "dl = dm.val_dataloader()"
   ]
  },
  {
   "cell_type": "code",
   "execution_count": 19,
   "metadata": {},
   "outputs": [
    {
     "name": "stderr",
     "output_type": "stream",
     "text": [
      "GPU available: False, used: False\n",
      "TPU available: False, using: 0 TPU cores\n",
      "IPU available: False, using: 0 IPUs\n",
      "HPU available: False, using: 0 HPUs\n"
     ]
    },
    {
     "name": "stdout",
     "output_type": "stream",
     "text": [
      "Validation: 0it [00:00, ?it/s]../datasets/cellmodules-2/csv/images/image_178.jpg\n",
      "../datasets/cellmodules-2/csv/images/image_226.jpg\n",
      "../datasets/cellmodules-2/csv/images/image_97.jpg\n",
      "../datasets/cellmodules-2/csv/images/image_163.jpg\n",
      "Validation DataLoader 0:   0%|          | 0/22 [00:00<?, ?it/s]../datasets/cellmodules-2/csv/images/image_8.jpg\n",
      "../datasets/cellmodules-2/csv/images/image_16.jpg\n",
      "../datasets/cellmodules-2/csv/images/image_108.jpg\n",
      "../datasets/cellmodules-2/csv/images/image_231.jpg\n",
      "../datasets/cellmodules-2/csv/images/image_185.jpg\n",
      "../datasets/cellmodules-2/csv/images/image_206.jpg\n",
      "Validation DataLoader 0:   5%|▍         | 1/22 [00:05<01:50,  5.26s/it]../datasets/cellmodules-2/csv/images/image_39.jpg\n",
      "../datasets/cellmodules-2/csv/images/image_233.jpg\n",
      "Validation DataLoader 0:   9%|▉         | 2/22 [00:10<01:48,  5.42s/it]../datasets/cellmodules-2/csv/images/image_146.jpg\n",
      "../datasets/cellmodules-2/csv/images/image_71.jpg\n"
     ]
    },
    {
     "name": "stderr",
     "output_type": "stream",
     "text": [
      "/usr/local/anaconda3/envs/Thesis/lib/python3.7/site-packages/pytorch_lightning/trainer/trainer.py:653: UserWarning: Detected KeyboardInterrupt, attempting graceful shutdown...\n",
      "  rank_zero_warn(\"Detected KeyboardInterrupt, attempting graceful shutdown...\")\n"
     ]
    }
   ],
   "source": [
    "trainer = Trainer(\n",
    "    max_epochs=50,\n",
    "    accelerator='auto',\n",
    "    devices='auto',\n",
    "    log_every_n_steps=1\n",
    "    )\n",
    "\n",
    "trainer.validate(\n",
    "    model=model,\n",
    "    dataloaders=dl\n",
    ")"
   ]
  },
  {
   "cell_type": "code",
   "execution_count": null,
   "metadata": {},
   "outputs": [],
   "source": []
  }
 ],
 "metadata": {
  "kernelspec": {
   "display_name": "Thesis",
   "language": "python",
   "name": "python3"
  },
  "language_info": {
   "codemirror_mode": {
    "name": "ipython",
    "version": 3
   },
   "file_extension": ".py",
   "mimetype": "text/x-python",
   "name": "python",
   "nbconvert_exporter": "python",
   "pygments_lexer": "ipython3",
   "version": "3.7.15"
  },
  "orig_nbformat": 4,
  "vscode": {
   "interpreter": {
    "hash": "65aa49fd346b65e227272bb7d1218f3084fee0c005b33390f58f3181d148085d"
   }
  }
 },
 "nbformat": 4,
 "nbformat_minor": 2
}
