{
 "cells": [
  {
   "cell_type": "code",
   "execution_count": 13,
   "metadata": {},
   "outputs": [],
   "source": [
    "from datamodules import TableDatasetModule\n",
    "from models import get_model\n",
    "import torch\n",
    "from pytorch_lightning import Trainer"
   ]
  },
  {
   "cell_type": "code",
   "execution_count": 8,
   "metadata": {},
   "outputs": [],
   "source": [
    "path_to_dataset = \"../datasets/cellmodules-1/csv\"\n",
    "path_to_ckpt = \"../inference-checkpoints/best-fasterrcnn.ckpt\"\n",
    "\n",
    "model_name = \"VanillaFasterRCNN\""
   ]
  },
  {
   "cell_type": "code",
   "execution_count": 9,
   "metadata": {},
   "outputs": [],
   "source": [
    "dm = TableDatasetModule(\n",
    "    path=path_to_dataset\n",
    ")"
   ]
  },
  {
   "cell_type": "code",
   "execution_count": 11,
   "metadata": {},
   "outputs": [
    {
     "name": "stdout",
     "output_type": "stream",
     "text": [
      "Loaded Successfully\n"
     ]
    }
   ],
   "source": [
    "vanilla_model = get_model(model_name=model_name)\n",
    "    \n",
    "# Check if the correct model name was specified\n",
    "if vanilla_model is None:\n",
    "    print(\"Model with the name: \" + model_name + \" not found.\")\n",
    "    \n",
    "\n",
    "# Load the model with the checkpoint weights\n",
    "model = vanilla_model.load_from_checkpoint(path_to_ckpt)\n",
    "\n",
    "# Move the model to appropriate storage i.e. RAM if only CPU is\n",
    "# available and VRAM if only GPU is available\n",
    "device = torch.device(\"cuda\" if torch.cuda.is_available() else \"cpu\")\n",
    "model.to(device)\n",
    "\n",
    "print(\"Loaded Successfully\")"
   ]
  },
  {
   "cell_type": "code",
   "execution_count": 30,
   "metadata": {},
   "outputs": [
    {
     "name": "stderr",
     "output_type": "stream",
     "text": [
      "GPU available: False, used: False\n",
      "TPU available: False, using: 0 TPU cores\n",
      "IPU available: False, using: 0 IPUs\n",
      "HPU available: False, using: 0 HPUs\n",
      "Exception ignored in: <function Profiler.__del__ at 0x7fba513489e0>\n",
      "Traceback (most recent call last):\n",
      "  File \"/usr/local/anaconda3/envs/Thesis/lib/python3.7/site-packages/pytorch_lightning/profilers/profiler.py\", line 169, in __del__\n",
      "    def __del__(self) -> None:\n",
      "KeyboardInterrupt\n"
     ]
    },
    {
     "name": "stdout",
     "output_type": "stream",
     "text": [
      "\n",
      "Dataset Information\n",
      "Total Images in Dataset: 2266\n",
      "Number of Training Images: 1813\n",
      "Number of Evaluation Images: 453\n",
      "\n",
      "Validation DataLoader 0:   1%|          | 2/227 [00:13<24:36,  6.56s/it]"
     ]
    }
   ],
   "source": [
    "trainer = Trainer()\n",
    "\n",
    "dm.prepare_data()\n",
    "dm.setup(stage='fit')\n",
    "\n",
    "dl = dm.val_dataloader()\n",
    "\n",
    "trainer.validate(\n",
    "    model=model,\n",
    "    dataloaders=dl\n",
    ")"
   ]
  },
  {
   "cell_type": "code",
   "execution_count": null,
   "metadata": {},
   "outputs": [],
   "source": []
  }
 ],
 "metadata": {
  "kernelspec": {
   "display_name": "Thesis",
   "language": "python",
   "name": "python3"
  },
  "language_info": {
   "codemirror_mode": {
    "name": "ipython",
    "version": 3
   },
   "file_extension": ".py",
   "mimetype": "text/x-python",
   "name": "python",
   "nbconvert_exporter": "python",
   "pygments_lexer": "ipython3",
   "version": "3.7.15"
  },
  "orig_nbformat": 4,
  "vscode": {
   "interpreter": {
    "hash": "65aa49fd346b65e227272bb7d1218f3084fee0c005b33390f58f3181d148085d"
   }
  }
 },
 "nbformat": 4,
 "nbformat_minor": 2
}
