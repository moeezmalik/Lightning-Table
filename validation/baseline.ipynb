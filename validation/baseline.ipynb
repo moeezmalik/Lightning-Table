{
 "cells": [
  {
   "cell_type": "code",
   "execution_count": 54,
   "metadata": {},
   "outputs": [],
   "source": [
    "import fitz\n",
    "import pandas as pd"
   ]
  },
  {
   "cell_type": "code",
   "execution_count": 58,
   "metadata": {},
   "outputs": [
    {
     "name": "stdout",
     "output_type": "stream",
     "text": [
      "<class 'float'>\n"
     ]
    }
   ],
   "source": [
    "doc = fitz.open(\"../misc/1-4.pdf\")\n",
    "\n",
    "for page in doc:\n",
    "    text = page.get_text(\"words\", sort=True)\n",
    "    print(page.mediabox_size[1])"
   ]
  },
  {
   "cell_type": "code",
   "execution_count": 34,
   "metadata": {},
   "outputs": [
    {
     "name": "stdout",
     "output_type": "stream",
     "text": [
      "<class 'list'>\n"
     ]
    }
   ],
   "source": [
    "table_coordinates = \"1-4.pdf,1,251,535,573,326\"\n",
    "\n",
    "table_x0 = 251.0\n",
    "table_y0 = 535.0\n",
    "\n",
    "table_x1 = 573.0\n",
    "table_y1 = 326.0\n",
    "\n",
    "print(type(text))\n",
    "\n",
    "words_positions = []\n",
    "\n",
    "for item in text:\n",
    "    \n",
    "    item_x0 = item[0]\n",
    "    item_y0 = 824.0 - item[1]\n",
    "\n",
    "    item_x1 = item[2]\n",
    "    item_y1 = 824.0 - item[3]\n",
    "\n",
    "    # print(item_x0)\n",
    "    # print(item_y0)\n",
    "    # print(item_x1)\n",
    "    # print(item_y1)\n",
    "    # print()\n",
    "\n",
    "    if item_x0 > table_x0:\n",
    "        if item_y0 < table_y0:\n",
    "            if item_x1 < table_x1:\n",
    "                if item_y1 > table_y1:\n",
    "                    \n",
    "                    avg_y = (item_y0 + item_y1) / 2.0\n",
    "                    text = item[4]\n",
    "                    block_no = item[5]\n",
    "\n",
    "                    word_pos = [avg_y, text, block_no]\n",
    "\n",
    "                    words_positions.append(word_pos)\n"
   ]
  },
  {
   "cell_type": "code",
   "execution_count": 40,
   "metadata": {},
   "outputs": [
    {
     "name": "stdout",
     "output_type": "stream",
     "text": [
      "[[[519.1793975830078, 'EFF', 24], [519.1793975830078, 'Code(%)', 24], [519.1793975830078, 'Pmpp(W)', 39], [519.1793975830078, 'Vmpp(V)', 54], [519.1793975830078, 'Impp(A)', 69], [519.1793975830078, 'Voc(V)', 84], [519.1793975830078, 'Isc(A)', 99]], [[504.4794616699219, '22.6%', 20], [503.767578125, '5.69', 35], [503.67578125, '0.579', 50], [503.67578125, '9.835', 65], [503.67578125, '0.683', 80], [503.67578125, '10.390', 95]], [[491.31146240234375, '22.5%', 21], [490.5995788574219, '5.66', 36], [490.5077819824219, '0.577', 51], [490.5077819824219, '9.815', 66], [490.5077819824219, '0.682', 81], [490.5077819824219, '10.388', 96]], [[478.2154541015625, '22.4%', 22], [477.5035705566406, '5.64', 37], [477.4117736816406, '0.576', 52], [477.4117736816406, '9.807', 67], [477.4117736816406, '0.680', 82], [477.4117736816406, '10.370', 97]], [[465.11944580078125, '22.3%', 23], [464.4075622558594, '5.62', 38], [464.3157653808594, '0.574', 53], [464.3157653808594, '9.792', 68], [464.3157653808594, '0.679', 83], [464.3157653808594, '10.344', 98]], [[452.0321350097656, '22.2%', 5], [451.3436584472656, '5.59', 25], [451.2518615722656, '0.571', 40], [451.2518615722656, '9.792', 55], [451.2518615722656, '0.678', 70], [451.2518615722656, '10.334', 85]], [[438.9361267089844, '22.1%', 6], [438.2476501464844, '5.57', 26], [438.1558532714844, '0.569', 41], [438.1558532714844, '9.792', 56], [438.1558532714844, '0.677', 71], [438.1558532714844, '10.333', 86]], [[425.8401184082031, '22.0%', 7], [425.1516418457031, '5.54', 27], [425.0598449707031, '0.568', 42], [425.0598449707031, '9.759', 57], [425.0598449707031, '0.677', 72], [425.0598449707031, '10.313', 87]], [[412.7441101074219, '21.9%', 8], [412.0556335449219, '5.52', 28], [411.9638366699219, '0.567', 43], [411.9638366699219, '9.728', 58], [411.9638366699219, '0.676', 73], [411.9638366699219, '10.290', 88]], [[399.6481018066406, '21.8%', 9], [398.9596252441406, '5.49', 29], [398.8678283691406, '0.567', 44], [398.8678283691406, '9.693', 59], [398.8678283691406, '0.675', 74], [398.8678283691406, '10.254', 89]], [[386.5520935058594, '21.7%', 10], [385.8636169433594, '5.47', 30], [385.7718200683594, '0.564', 45], [385.7718200683594, '9.693', 60], [385.7718200683594, '0.674', 75], [385.7718200683594, '10.226', 90]], [[373.4560852050781, '21.6%', 11], [372.7676086425781, '5.44', 31], [372.6758117675781, '0.563', 46], [372.6758117675781, '9.658', 61], [372.6758117675781, '0.671', 76], [372.6758117675781, '10.221', 91]], [[360.3600769042969, '21.5%', 12], [359.6716003417969, '5.42', 32], [359.5798034667969, '0.561', 47], [359.5798034667969, '9.654', 62], [359.5798034667969, '0.669', 77], [359.5798034667969, '10.209', 92]], [[347.2640686035156, '21.4%', 13], [346.5755920410156, '5.39', 33], [346.4837951660156, '0.558', 48], [346.4837951660156, '9.663', 63], [346.4837951660156, '0.667', 78], [346.4837951660156, '10.195', 93]]]\n"
     ]
    }
   ],
   "source": [
    "raw_lines = []\n",
    "\n",
    "raw_line = []\n",
    "prev_pos = words_positions[0][0]\n",
    "\n",
    "for word in words_positions:\n",
    "    \n",
    "    curr_pos = word[0]\n",
    "\n",
    "    # If decided that it is the same line\n",
    "    if abs(curr_pos - prev_pos) < 5:\n",
    "        raw_line.append(word)\n",
    "    \n",
    "    # If decided that it is not the same line\n",
    "    else:\n",
    "\n",
    "        # Commit the line\n",
    "        raw_lines.append(raw_line)\n",
    "\n",
    "        # Clear the previous line\n",
    "        raw_line = []\n",
    "\n",
    "        # Append the word for new line\n",
    "        raw_line.append(word)\n",
    "\n",
    "    prev_pos = curr_pos\n",
    "\n",
    "\n",
    "print(raw_lines)\n",
    "        "
   ]
  },
  {
   "cell_type": "code",
   "execution_count": 55,
   "metadata": {},
   "outputs": [
    {
     "data": {
      "text/html": [
       "<div>\n",
       "<style scoped>\n",
       "    .dataframe tbody tr th:only-of-type {\n",
       "        vertical-align: middle;\n",
       "    }\n",
       "\n",
       "    .dataframe tbody tr th {\n",
       "        vertical-align: top;\n",
       "    }\n",
       "\n",
       "    .dataframe thead th {\n",
       "        text-align: right;\n",
       "    }\n",
       "</style>\n",
       "<table border=\"1\" class=\"dataframe\">\n",
       "  <thead>\n",
       "    <tr style=\"text-align: right;\">\n",
       "      <th></th>\n",
       "      <th>0</th>\n",
       "      <th>1</th>\n",
       "      <th>2</th>\n",
       "      <th>3</th>\n",
       "      <th>4</th>\n",
       "      <th>5</th>\n",
       "    </tr>\n",
       "  </thead>\n",
       "  <tbody>\n",
       "    <tr>\n",
       "      <th>0</th>\n",
       "      <td>EFF Code(%)</td>\n",
       "      <td>Pmpp(W)</td>\n",
       "      <td>Vmpp(V)</td>\n",
       "      <td>Impp(A)</td>\n",
       "      <td>Voc(V)</td>\n",
       "      <td>Isc(A)</td>\n",
       "    </tr>\n",
       "    <tr>\n",
       "      <th>1</th>\n",
       "      <td>22.6%</td>\n",
       "      <td>5.69</td>\n",
       "      <td>0.579</td>\n",
       "      <td>9.835</td>\n",
       "      <td>0.683</td>\n",
       "      <td>10.390</td>\n",
       "    </tr>\n",
       "    <tr>\n",
       "      <th>2</th>\n",
       "      <td>22.5%</td>\n",
       "      <td>5.66</td>\n",
       "      <td>0.577</td>\n",
       "      <td>9.815</td>\n",
       "      <td>0.682</td>\n",
       "      <td>10.388</td>\n",
       "    </tr>\n",
       "    <tr>\n",
       "      <th>3</th>\n",
       "      <td>22.4%</td>\n",
       "      <td>5.64</td>\n",
       "      <td>0.576</td>\n",
       "      <td>9.807</td>\n",
       "      <td>0.680</td>\n",
       "      <td>10.370</td>\n",
       "    </tr>\n",
       "    <tr>\n",
       "      <th>4</th>\n",
       "      <td>22.3%</td>\n",
       "      <td>5.62</td>\n",
       "      <td>0.574</td>\n",
       "      <td>9.792</td>\n",
       "      <td>0.679</td>\n",
       "      <td>10.344</td>\n",
       "    </tr>\n",
       "  </tbody>\n",
       "</table>\n",
       "</div>"
      ],
      "text/plain": [
       "             0        1        2        3       4       5\n",
       "0  EFF Code(%)  Pmpp(W)  Vmpp(V)  Impp(A)  Voc(V)  Isc(A)\n",
       "1        22.6%     5.69    0.579    9.835   0.683  10.390\n",
       "2        22.5%     5.66    0.577    9.815   0.682  10.388\n",
       "3        22.4%     5.64    0.576    9.807   0.680  10.370\n",
       "4        22.3%     5.62    0.574    9.792   0.679  10.344"
      ]
     },
     "execution_count": 55,
     "metadata": {},
     "output_type": "execute_result"
    }
   ],
   "source": [
    "lines = []\n",
    "line = []\n",
    "\n",
    "prev_block_no = raw_lines[0][0][2]\n",
    "\n",
    "w_string = \"\"\n",
    "\n",
    "for raw_line in raw_lines:\n",
    "    \n",
    "    prev_block_no = raw_line[0][2]\n",
    "\n",
    "    for raw_word in raw_line:\n",
    "        \n",
    "        curr_block_no = raw_word[2]\n",
    "        raw_word_string = raw_word[1]\n",
    "\n",
    "        if curr_block_no == prev_block_no:\n",
    "            \n",
    "            if not w_string:\n",
    "                w_string = w_string + raw_word_string\n",
    "            else:\n",
    "                w_string = w_string + \" \" + raw_word_string\n",
    "        else:\n",
    "\n",
    "            line.append(w_string)\n",
    "            w_string = raw_word_string\n",
    "\n",
    "        prev_block_no = curr_block_no\n",
    "\n",
    "    line.append(w_string)\n",
    "    w_string = \"\"\n",
    "\n",
    "    lines.append(line)\n",
    "\n",
    "    line = []\n",
    "\n",
    "table_df = pd.DataFrame(lines)\n",
    "table_df.head()\n",
    "\n",
    "\n",
    "    \n",
    "\n"
   ]
  },
  {
   "attachments": {},
   "cell_type": "markdown",
   "metadata": {},
   "source": [
    "# TABULA TESTING"
   ]
  },
  {
   "cell_type": "code",
   "execution_count": 60,
   "metadata": {},
   "outputs": [],
   "source": [
    "import tabula"
   ]
  },
  {
   "cell_type": "code",
   "execution_count": 87,
   "metadata": {},
   "outputs": [
    {
     "name": "stdout",
     "output_type": "stream",
     "text": [
      "[289.0, 251.0, 498.0, 573.0]\n"
     ]
    }
   ],
   "source": [
    "table_area = [table_x0, 824.0 - table_y0, table_x1, 824.0 - table_y1]\n",
    "table_area_alt = [824.0 - table_y0, table_x0, 824.0 - table_y1, table_x1]\n",
    "\n",
    "print(table_area_alt)\n",
    "\n",
    "dfs = tabula.read_pdf(\n",
    "    input_path=\"../misc/1-4.pdf\",\n",
    "    output_format=\"dataframe\",\n",
    "    area=table_area_alt,\n",
    "    pages=1,\n",
    "    stream=True\n",
    ")"
   ]
  },
  {
   "cell_type": "code",
   "execution_count": 89,
   "metadata": {},
   "outputs": [
    {
     "name": "stdout",
     "output_type": "stream",
     "text": [
      "<class 'list'>\n",
      "                 0        1        2        3       4       5\n",
      "index  EFF Code(%)  Pmpp(W)  Vmpp(V)  Impp(A)  Voc(V)  Isc(A)\n",
      "0            22.6%     5.69    0.579    9.835   0.683   10.39\n",
      "1            22.5%     5.66    0.577    9.815   0.682  10.388\n",
      "2            22.4%     5.64    0.576    9.807    0.68   10.37\n",
      "3            22.3%     5.62    0.574    9.792   0.679  10.344\n",
      "4            22.2%     5.59    0.571    9.792   0.678  10.334\n",
      "5            22.1%     5.57    0.569    9.792   0.677  10.333\n",
      "6            22.0%     5.54    0.568    9.759   0.677  10.313\n",
      "7            21.9%     5.52    0.567    9.728   0.676   10.29\n",
      "8            21.8%     5.49    0.567    9.693   0.675  10.254\n",
      "9            21.7%     5.47    0.564    9.693   0.674  10.226\n",
      "10           21.6%     5.44    0.563    9.658   0.671  10.221\n",
      "11           21.5%     5.42    0.561    9.654   0.669  10.209\n",
      "12           21.4%     5.39    0.558    9.663   0.667  10.195\n",
      "13           21.3%     5.37    0.557     9.64   0.665  10.174\n",
      "   EFF Code(%)  Pmpp(W)  Vmpp(V)  Impp(A)  Voc(V)  Isc(A)\n",
      "0        22.6%     5.69    0.579    9.835   0.683  10.390\n",
      "1        22.5%     5.66    0.577    9.815   0.682  10.388\n",
      "2        22.4%     5.64    0.576    9.807   0.680  10.370\n",
      "3        22.3%     5.62    0.574    9.792   0.679  10.344\n",
      "4        22.2%     5.59    0.571    9.792   0.678  10.334\n",
      "5        22.1%     5.57    0.569    9.792   0.677  10.333\n",
      "6        22.0%     5.54    0.568    9.759   0.677  10.313\n",
      "7        21.9%     5.52    0.567    9.728   0.676  10.290\n",
      "8        21.8%     5.49    0.567    9.693   0.675  10.254\n",
      "9        21.7%     5.47    0.564    9.693   0.674  10.226\n",
      "10       21.6%     5.44    0.563    9.658   0.671  10.221\n",
      "11       21.5%     5.42    0.561    9.654   0.669  10.209\n",
      "12       21.4%     5.39    0.558    9.663   0.667  10.195\n",
      "13       21.3%     5.37    0.557    9.640   0.665  10.174\n",
      "\n"
     ]
    }
   ],
   "source": [
    "print(type(dfs))\n",
    "\n",
    "for df in dfs:\n",
    "    print(df.T.reset_index().T)\n",
    "    print(df)\n",
    "\n",
    "    print()"
   ]
  },
  {
   "cell_type": "code",
   "execution_count": null,
   "metadata": {},
   "outputs": [],
   "source": []
  }
 ],
 "metadata": {
  "kernelspec": {
   "display_name": "Thesis",
   "language": "python",
   "name": "python3"
  },
  "language_info": {
   "codemirror_mode": {
    "name": "ipython",
    "version": 3
   },
   "file_extension": ".py",
   "mimetype": "text/x-python",
   "name": "python",
   "nbconvert_exporter": "python",
   "pygments_lexer": "ipython3",
   "version": "3.7.15 (default, Nov 24 2022, 12:02:37) \n[Clang 14.0.6 ]"
  },
  "orig_nbformat": 4,
  "vscode": {
   "interpreter": {
    "hash": "65aa49fd346b65e227272bb7d1218f3084fee0c005b33390f58f3181d148085d"
   }
  }
 },
 "nbformat": 4,
 "nbformat_minor": 2
}
