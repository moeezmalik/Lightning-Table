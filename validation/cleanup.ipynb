{
 "cells": [
  {
   "cell_type": "code",
   "execution_count": 177,
   "metadata": {},
   "outputs": [],
   "source": [
    "# All of the imports\n",
    "\n",
    "from cellstructure import Datasheet"
   ]
  },
  {
   "cell_type": "code",
   "execution_count": 195,
   "metadata": {},
   "outputs": [
    {
     "name": "stdout",
     "output_type": "stream",
     "text": [
      "5a1e4d632b8c5.xlsx\n",
      "                                                    0        1        2  \\\n",
      "0   All measurements are based on the Standard Tes...                     \n",
      "1                                              Eff(%)  Pmpp(W)  Vmpp(V)   \n",
      "2                                               21.40     5.23    0.567   \n",
      "3                                               21.20     5.18    0.563   \n",
      "4                                               21.00     5.13    0.561   \n",
      "5                                               20.80     5.08    0.558   \n",
      "6                                               20.60     5.03    0.554   \n",
      "7                                               20.40     4.99    0.549   \n",
      "8                                               20.20     4.93    0.555   \n",
      "9                                               20.00     4.89    0.555   \n",
      "10                                              19.80     4.84    0.556   \n",
      "11                                              19.60     4.79    0.549   \n",
      "\n",
      "          3       4       5      6  \n",
      "0                                   \n",
      "1   Impp(A)  Voc(V)  Isc(A)  FF(%)  \n",
      "2     9.225   0.665   9.729  80.88  \n",
      "3     9.198   0.664   9.695  80.44  \n",
      "4     9.152   0.664   9.725  79.46  \n",
      "5     9.109   0.661   9.632  79.84  \n",
      "6     9.089   0.661   9.671  78.72  \n",
      "7     9.087   0.654   9.651  79.04  \n",
      "8     8.880   0.656   9.420  79.71  \n",
      "9     8.809   0.649   9.337  80.68  \n",
      "10    8.702   0.648   9.200  81.12  \n",
      "11    8.722   0.641   9.275  80.51  \n"
     ]
    }
   ],
   "source": [
    "path_to_pdf = \"/Volumes/T7/thesis-data/test/selected_excel/5a1e4d632b8c5.xlsx\"\n",
    "\n",
    "ds = Datasheet()\n",
    "ds.load_tables_from_excel(path_to_excel=path_to_pdf)\n",
    "\n",
    "print(ds.name)\n",
    "\n",
    "table = ds.tables[0]\n",
    "print(table.raw_df)"
   ]
  },
  {
   "cell_type": "code",
   "execution_count": 193,
   "metadata": {},
   "outputs": [
    {
     "ename": "ValueError",
     "evalue": "could not convert string to float: '25.6-'",
     "output_type": "error",
     "traceback": [
      "\u001b[0;31m---------------------------------------------------------------------------\u001b[0m",
      "\u001b[0;31mValueError\u001b[0m                                Traceback (most recent call last)",
      "\u001b[0;32m/var/folders/z8/pbd3v74d4yg5dn8rwcfw_7bh0000gn/T/ipykernel_35426/1653588713.py\u001b[0m in \u001b[0;36m<module>\u001b[0;34m\u001b[0m\n\u001b[1;32m      1\u001b[0m \u001b[0mmy_string\u001b[0m \u001b[0;34m=\u001b[0m \u001b[0;34m\"25.6-\"\u001b[0m\u001b[0;34m\u001b[0m\u001b[0;34m\u001b[0m\u001b[0m\n\u001b[1;32m      2\u001b[0m \u001b[0;34m\u001b[0m\u001b[0m\n\u001b[0;32m----> 3\u001b[0;31m \u001b[0mmy_float\u001b[0m \u001b[0;34m=\u001b[0m \u001b[0mfloat\u001b[0m\u001b[0;34m(\u001b[0m\u001b[0mmy_string\u001b[0m\u001b[0;34m)\u001b[0m\u001b[0;34m\u001b[0m\u001b[0;34m\u001b[0m\u001b[0m\n\u001b[0m\u001b[1;32m      4\u001b[0m \u001b[0;34m\u001b[0m\u001b[0m\n\u001b[1;32m      5\u001b[0m \u001b[0mprint\u001b[0m\u001b[0;34m(\u001b[0m\u001b[0mtype\u001b[0m\u001b[0;34m(\u001b[0m\u001b[0mmy_float\u001b[0m\u001b[0;34m)\u001b[0m\u001b[0;34m)\u001b[0m\u001b[0;34m\u001b[0m\u001b[0;34m\u001b[0m\u001b[0m\n",
      "\u001b[0;31mValueError\u001b[0m: could not convert string to float: '25.6-'"
     ]
    }
   ],
   "source": [
    "col_ids = {\n",
    "    'eff':  ['Eff'],\n",
    "    'pmpp': ['Pmpp'],\n",
    "    'vmpp': ['Vmpp'],\n",
    "    'impp': ['Impp'],\n",
    "    'voc':  ['Voc'],\n",
    "    'isc':  ['Isc'],\n",
    "    'ff':   ['FF']\n",
    "}\n",
    "\n",
    "e_units = ['%', 'W', 'V', 'A']\n",
    "\n"
   ]
  },
  {
   "cell_type": "code",
   "execution_count": null,
   "metadata": {},
   "outputs": [],
   "source": []
  }
 ],
 "metadata": {
  "kernelspec": {
   "display_name": "Thesis",
   "language": "python",
   "name": "python3"
  },
  "language_info": {
   "name": "python",
   "version": "3.7.15 (default, Nov 24 2022, 12:02:37) \n[Clang 14.0.6 ]"
  },
  "orig_nbformat": 4,
  "vscode": {
   "interpreter": {
    "hash": "65aa49fd346b65e227272bb7d1218f3084fee0c005b33390f58f3181d148085d"
   }
  }
 },
 "nbformat": 4,
 "nbformat_minor": 2
}
