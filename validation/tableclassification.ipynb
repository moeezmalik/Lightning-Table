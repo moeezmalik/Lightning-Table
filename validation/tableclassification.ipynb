{
 "cells": [
  {
   "attachments": {},
   "cell_type": "markdown",
   "metadata": {},
   "source": [
    "# Initial Setups\n",
    "\n",
    "This section will setup the notebook for the process of table classification"
   ]
  },
  {
   "cell_type": "code",
   "execution_count": 8,
   "metadata": {},
   "outputs": [
    {
     "name": "stdout",
     "output_type": "stream",
     "text": [
      "The autoreload extension is already loaded. To reload it, use:\n",
      "  %reload_ext autoreload\n"
     ]
    }
   ],
   "source": [
    "# iPython Setting\n",
    "%load_ext autoreload\n",
    "%autoreload 2\n",
    "\n",
    "# Imports\n",
    "import numpy as np\n",
    "import pandas as pd\n",
    "from cellstructure import Datasheet\n",
    "from files import get_list_of_files_with_ext, join"
   ]
  },
  {
   "attachments": {},
   "cell_type": "markdown",
   "metadata": {},
   "source": [
    "# String Cleanup\n",
    "\n",
    "In this section, the individual keywords extracted from the table are cleaned up"
   ]
  },
  {
   "cell_type": "code",
   "execution_count": 2,
   "metadata": {},
   "outputs": [
    {
     "name": "stdout",
     "output_type": "stream",
     "text": [
      "/Volumes/T7/thesis-data/test/selected_excel/59bf894a49f3c.xlsx\n"
     ]
    }
   ],
   "source": [
    "# Files and paths\n",
    "path_to_excel_folder = \"/Volumes/T7/thesis-data/test/selected_excel/\"\n",
    "\n",
    "file_list = get_list_of_files_with_ext(\n",
    "    path_to_folder=path_to_excel_folder,\n",
    "    ext=\"xlsx\",\n",
    "    verbose=False,\n",
    "    randomise=True\n",
    ")\n",
    "\n",
    "single_file = file_list[0]\n",
    "\n",
    "print(single_file)"
   ]
  },
  {
   "cell_type": "code",
   "execution_count": 3,
   "metadata": {},
   "outputs": [
    {
     "name": "stdout",
     "output_type": "stream",
     "text": [
      "59bf894a49f3c.xlsx\n",
      "\n",
      "Table_1\n",
      "\n",
      "           0      1      2      3       4       5      6\n",
      "0     Eff(%)  Pm(W)  Vm(V)  Im(A)  Voc(V)  Isc(A)  FF(%)\n",
      "1  18.5-18.6   2.87  0.528  5.428   0.632   5.751  78.94\n",
      "2  18.4-18.5   2.86  0.528  5.408   0.632   5.731  78.84\n",
      "3  18.3-18.4   2.84  0.528  5.378   0.631   5.712  78.77\n",
      "4  18.2-18.3   2.83  0.527  5.363   0.631   5.694  78.67\n",
      "5  18.1-18.2   2.81  0.526  5.338   0.630   5.678  78.54\n",
      "6  18.0-18.1   2.79  0.525  5.322   0.629   5.664  78.39\n",
      "7  17.8-18.0   2.78  0.523  5.301   0.629   5.640  78.19\n",
      "8  17.6-17.8   2.74  0.521  5.266   0.628   5.610  77.90\n",
      "\n",
      "['Eff', 'Pm', 'W', 'Vm', 'V', 'Im', 'A', 'Voc', 'V', 'Isc', 'A', 'FF']\n",
      "\n",
      "Table_2\n",
      "\n",
      "           0                                              1          2  \\\n",
      "0  CELL TYPE                                          a(mm)      b(mm)   \n",
      "1       M652                                       0.5\\n125  62    0.5   \n",
      "2   Comments                    a——Side length of the cell;              \n",
      "3             b——Center to center distance between busbars;              \n",
      "4                            c——Width of front side busbar;              \n",
      "5                             d——Width of back side busbar;              \n",
      "\n",
      "            3  \n",
      "0       c(mm)  \n",
      "1  1.5    0.1  \n",
      "2              \n",
      "3              \n",
      "4              \n",
      "5              \n",
      "\n",
      "['CELL', 'TYPE', 'a', 'mm', 'b', 'mm', 'c', 'mm', 'M', 'Comments', 'aSide', 'length', 'of', 'the', 'cell', 'bCenter', 'to', 'center', 'distance', 'between', 'busbars', 'cWidth', 'of', 'front', 'side', 'busbar', 'dWidth', 'of', 'back', 'side', 'busbar']\n"
     ]
    }
   ],
   "source": [
    "ds = Datasheet()\n",
    "ds.load_tables_from_excel(path_to_excel=single_file)\n",
    "\n",
    "print(ds.name)\n",
    "\n",
    "for table in ds.tables:\n",
    "    print()\n",
    "    print(table.name)\n",
    "    print()\n",
    "    print(table.raw_df)\n",
    "    print()\n",
    "    print(table.low)"
   ]
  },
  {
   "attachments": {},
   "cell_type": "markdown",
   "metadata": {},
   "source": [
    "# Keyword Modelling\n",
    "\n",
    "The the keywords and their labels are converted to sentences. It is not the most efficient way to do this, but it will get the job done. Needs to be reformulated if there are a large number of files and tables."
   ]
  },
  {
   "cell_type": "code",
   "execution_count": 4,
   "metadata": {},
   "outputs": [
    {
     "data": {
      "text/html": [
       "<div>\n",
       "<style scoped>\n",
       "    .dataframe tbody tr th:only-of-type {\n",
       "        vertical-align: middle;\n",
       "    }\n",
       "\n",
       "    .dataframe tbody tr th {\n",
       "        vertical-align: top;\n",
       "    }\n",
       "\n",
       "    .dataframe thead th {\n",
       "        text-align: right;\n",
       "    }\n",
       "</style>\n",
       "<table border=\"1\" class=\"dataframe\">\n",
       "  <thead>\n",
       "    <tr style=\"text-align: right;\">\n",
       "      <th></th>\n",
       "      <th>keywords</th>\n",
       "      <th>class</th>\n",
       "    </tr>\n",
       "  </thead>\n",
       "  <tbody>\n",
       "    <tr>\n",
       "      <th>0</th>\n",
       "      <td>Efficiency Code Unit Efficiency Eff Power Ppm ...</td>\n",
       "      <td>e</td>\n",
       "    </tr>\n",
       "    <tr>\n",
       "      <th>1</th>\n",
       "      <td>Dimension mm mm mm Thickness Si m m Front Sili...</td>\n",
       "      <td>d</td>\n",
       "    </tr>\n",
       "    <tr>\n",
       "      <th>2</th>\n",
       "      <td>Efficiency Code Unit Efficiency Eff Power Ppm ...</td>\n",
       "      <td>e</td>\n",
       "    </tr>\n",
       "    <tr>\n",
       "      <th>3</th>\n",
       "      <td>Light Intensity Dependence Intensity Wm Vpm Ipm</td>\n",
       "      <td>o</td>\n",
       "    </tr>\n",
       "    <tr>\n",
       "      <th>4</th>\n",
       "      <td>Temperature Coefficients Current Temperature C...</td>\n",
       "      <td>t</td>\n",
       "    </tr>\n",
       "  </tbody>\n",
       "</table>\n",
       "</div>"
      ],
      "text/plain": [
       "                                            keywords class\n",
       "0  Efficiency Code Unit Efficiency Eff Power Ppm ...     e\n",
       "1  Dimension mm mm mm Thickness Si m m Front Sili...     d\n",
       "2  Efficiency Code Unit Efficiency Eff Power Ppm ...     e\n",
       "3    Light Intensity Dependence Intensity Wm Vpm Ipm     o\n",
       "4  Temperature Coefficients Current Temperature C...     t"
      ]
     },
     "execution_count": 4,
     "metadata": {},
     "output_type": "execute_result"
    }
   ],
   "source": [
    "labels_file = \"/Volumes/T7/thesis-data/test/selected_excel/labels.csv\"\n",
    "\n",
    "labels_df = pd.read_csv(labels_file, names=['filename', 'tablename', 'class'])\n",
    "labels_list = labels_df.values.tolist()\n",
    "\n",
    "ds = Datasheet()\n",
    "\n",
    "useful_list = []\n",
    "\n",
    "for label in labels_list:\n",
    "\n",
    "    path_to_ds = join(path_to_excel_folder, label[0])\n",
    "\n",
    "    ds.load_tables_from_excel(path_to_ds)\n",
    "\n",
    "    for table in ds.tables:\n",
    "\n",
    "        if table.name == label[1]:\n",
    "\n",
    "            sow = ' '.join(table.low)\n",
    "\n",
    "            useful_list.append([sow, label[2]])\n",
    "\n",
    "\n",
    "useful_df = pd.DataFrame(useful_list, columns=['keywords', 'class'])\n",
    "useful_df.head()"
   ]
  },
  {
   "cell_type": "code",
   "execution_count": 5,
   "metadata": {},
   "outputs": [],
   "source": [
    "path_to_useful_csv = \"/Volumes/T7/thesis-data/test/selected_excel/cleaned-up-2.csv\"\n",
    "useful_df.to_csv(path_to_useful_csv, header=False, index=False)"
   ]
  },
  {
   "attachments": {},
   "cell_type": "markdown",
   "metadata": {},
   "source": [
    "# Fitting the Model\n",
    "\n",
    "In this section we will try our hand at this prediction thing"
   ]
  },
  {
   "attachments": {},
   "cell_type": "markdown",
   "metadata": {},
   "source": [
    "### Imports\n",
    "\n",
    "Setting up the imports for word vectorisation and classification"
   ]
  },
  {
   "cell_type": "code",
   "execution_count": 4,
   "metadata": {},
   "outputs": [],
   "source": [
    "from sklearn.feature_extraction.text import CountVectorizer, TfidfVectorizer\n",
    "from sklearn.model_selection import train_test_split, KFold\n",
    "from sklearn.metrics import classification_report\n",
    "\n",
    "from sklearn.neighbors import KNeighborsClassifier\n",
    "from sklearn.naive_bayes import MultinomialNB"
   ]
  },
  {
   "attachments": {},
   "cell_type": "markdown",
   "metadata": {},
   "source": [
    "### Loading Dataset\n",
    "\n",
    "The dataset that is to be used for training and evaluation is loaded in this section."
   ]
  },
  {
   "cell_type": "code",
   "execution_count": 5,
   "metadata": {},
   "outputs": [
    {
     "data": {
      "text/html": [
       "<div>\n",
       "<style scoped>\n",
       "    .dataframe tbody tr th:only-of-type {\n",
       "        vertical-align: middle;\n",
       "    }\n",
       "\n",
       "    .dataframe tbody tr th {\n",
       "        vertical-align: top;\n",
       "    }\n",
       "\n",
       "    .dataframe thead th {\n",
       "        text-align: right;\n",
       "    }\n",
       "</style>\n",
       "<table border=\"1\" class=\"dataframe\">\n",
       "  <thead>\n",
       "    <tr style=\"text-align: right;\">\n",
       "      <th></th>\n",
       "      <th>keywords</th>\n",
       "      <th>class</th>\n",
       "    </tr>\n",
       "  </thead>\n",
       "  <tbody>\n",
       "    <tr>\n",
       "      <th>0</th>\n",
       "      <td>Efficiency Code Unit Efficiency Eff Power Ppm ...</td>\n",
       "      <td>e</td>\n",
       "    </tr>\n",
       "    <tr>\n",
       "      <th>1</th>\n",
       "      <td>Dimension mm mm mm Thickness Si m m Front Sili...</td>\n",
       "      <td>d</td>\n",
       "    </tr>\n",
       "    <tr>\n",
       "      <th>2</th>\n",
       "      <td>Efficiency Code Unit Efficiency Eff Power Ppm ...</td>\n",
       "      <td>e</td>\n",
       "    </tr>\n",
       "    <tr>\n",
       "      <th>3</th>\n",
       "      <td>Light Intensity Dependence Intensity Wm Vpm Ipm</td>\n",
       "      <td>o</td>\n",
       "    </tr>\n",
       "    <tr>\n",
       "      <th>4</th>\n",
       "      <td>Temperature Coefficients Current Temperature C...</td>\n",
       "      <td>t</td>\n",
       "    </tr>\n",
       "  </tbody>\n",
       "</table>\n",
       "</div>"
      ],
      "text/plain": [
       "                                            keywords class\n",
       "0  Efficiency Code Unit Efficiency Eff Power Ppm ...     e\n",
       "1  Dimension mm mm mm Thickness Si m m Front Sili...     d\n",
       "2  Efficiency Code Unit Efficiency Eff Power Ppm ...     e\n",
       "3    Light Intensity Dependence Intensity Wm Vpm Ipm     o\n",
       "4  Temperature Coefficients Current Temperature C...     t"
      ]
     },
     "execution_count": 5,
     "metadata": {},
     "output_type": "execute_result"
    }
   ],
   "source": [
    "path_to_useful_csv = \"/Volumes/T7/thesis-data/test/selected_excel/cleaned-up-2.csv\"\n",
    "\n",
    "useful_df = pd.read_csv(path_to_useful_csv, names=['keywords', 'class'])\n",
    "useful_df.fillna(value=\"\", inplace=True)\n",
    "useful_df.head()"
   ]
  },
  {
   "attachments": {},
   "cell_type": "markdown",
   "metadata": {},
   "source": [
    "### Word Vectorisation\n",
    "\n",
    "Putting the words from the tables into context"
   ]
  },
  {
   "cell_type": "code",
   "execution_count": 32,
   "metadata": {},
   "outputs": [],
   "source": [
    "cv = CountVectorizer(max_features=5000)\n",
    "tf = TfidfVectorizer(max_features=5000)\n",
    "\n",
    "X = useful_df['keywords']\n",
    "y = useful_df['class']\n",
    "\n",
    "X_tfidf = tf.fit_transform(X)\n",
    "X_cv = cv.fit_transform(X)"
   ]
  },
  {
   "cell_type": "code",
   "execution_count": 42,
   "metadata": {},
   "outputs": [
    {
     "data": {
      "text/html": [
       "<div>\n",
       "<style scoped>\n",
       "    .dataframe tbody tr th:only-of-type {\n",
       "        vertical-align: middle;\n",
       "    }\n",
       "\n",
       "    .dataframe tbody tr th {\n",
       "        vertical-align: top;\n",
       "    }\n",
       "\n",
       "    .dataframe thead th {\n",
       "        text-align: right;\n",
       "    }\n",
       "</style>\n",
       "<table border=\"1\" class=\"dataframe\">\n",
       "  <thead>\n",
       "    <tr style=\"text-align: right;\">\n",
       "      <th></th>\n",
       "      <th>keywords</th>\n",
       "    </tr>\n",
       "    <tr>\n",
       "      <th>class</th>\n",
       "      <th></th>\n",
       "    </tr>\n",
       "  </thead>\n",
       "  <tbody>\n",
       "    <tr>\n",
       "      <th>d</th>\n",
       "      <td>40</td>\n",
       "    </tr>\n",
       "    <tr>\n",
       "      <th>e</th>\n",
       "      <td>62</td>\n",
       "    </tr>\n",
       "    <tr>\n",
       "      <th>o</th>\n",
       "      <td>77</td>\n",
       "    </tr>\n",
       "    <tr>\n",
       "      <th>t</th>\n",
       "      <td>36</td>\n",
       "    </tr>\n",
       "  </tbody>\n",
       "</table>\n",
       "</div>"
      ],
      "text/plain": [
       "       keywords\n",
       "class          \n",
       "d            40\n",
       "e            62\n",
       "o            77\n",
       "t            36"
      ]
     },
     "execution_count": 42,
     "metadata": {},
     "output_type": "execute_result"
    }
   ],
   "source": [
    "useful_df.head()\n",
    "\n",
    "useful_df.groupby(\"class\").count()"
   ]
  },
  {
   "attachments": {},
   "cell_type": "markdown",
   "metadata": {},
   "source": [
    "### KFold Training and Test\n",
    "\n",
    "In this section we will evaluate"
   ]
  },
  {
   "cell_type": "code",
   "execution_count": 33,
   "metadata": {},
   "outputs": [],
   "source": [
    "def avg_classification_report(classification_reports: list):\n",
    "    \"\"\"\n",
    "    This function has only been designed for this task of\n",
    "    table classification only.\n",
    "    \"\"\"\n",
    "\n",
    "    print(\"Averaging Classifcation Reports\")\n",
    "\n",
    "    d_precision = 0.0\n",
    "    e_precision = 0.0\n",
    "    t_precision = 0.0\n",
    "    o_precision = 0.0\n",
    "\n",
    "    d_recall = 0.0\n",
    "    e_recall = 0.0\n",
    "    t_recall = 0.0\n",
    "    o_recall = 0.0\n",
    "\n",
    "    d_f1 = 0.0\n",
    "    e_f1 = 0.0\n",
    "    t_f1 = 0.0\n",
    "    o_f1 = 0.0\n",
    "\n",
    "    accuracy = 0.0\n",
    "\n",
    "\n",
    "    for report in classification_reports:\n",
    "\n",
    "        d_precision = d_precision + report.get(\"d\").get(\"precision\")\n",
    "        e_precision = e_precision + report.get(\"e\").get(\"precision\")\n",
    "        t_precision = t_precision + report.get(\"t\").get(\"precision\")\n",
    "        o_precision = o_precision + report.get(\"o\").get(\"precision\")\n",
    "\n",
    "        d_recall = d_recall + report.get(\"d\").get(\"recall\")\n",
    "        e_recall = e_recall + report.get(\"e\").get(\"recall\")\n",
    "        t_recall = t_recall + report.get(\"t\").get(\"recall\")\n",
    "        o_recall = o_recall + report.get(\"o\").get(\"recall\")\n",
    "\n",
    "        d_f1 = d_f1 + report.get(\"d\").get(\"f1-score\")\n",
    "        e_f1 = e_f1 + report.get(\"e\").get(\"f1-score\")\n",
    "        t_f1 = t_f1 + report.get(\"t\").get(\"f1-score\")\n",
    "        o_f1 = o_f1 + report.get(\"o\").get(\"f1-score\")\n",
    "\n",
    "        accuracy = accuracy + report.get(\"accuracy\")\n",
    "\n",
    "    total_reports = len(classification_reports)\n",
    "\n",
    "    d_precision = d_precision / total_reports\n",
    "    e_precision = e_precision / total_reports\n",
    "    t_precision = t_precision / total_reports\n",
    "    o_precision = o_precision / total_reports\n",
    "    d_recall = d_recall / total_reports\n",
    "    e_recall = e_recall / total_reports\n",
    "    t_recall = t_recall / total_reports\n",
    "    o_recall = o_recall / total_reports\n",
    "    d_f1 = d_f1 / total_reports\n",
    "    e_f1 = e_f1 / total_reports\n",
    "    t_f1 = t_f1 / total_reports\n",
    "    o_f1 = o_f1 / total_reports\n",
    "    accuracy = accuracy / total_reports\n",
    "\n",
    "    avgd_output = {\n",
    "        \"d\" : {\n",
    "            \"precision\" : d_precision,\n",
    "            \"recall\" : d_recall,\n",
    "            \"f1\" : d_f1\n",
    "        },\n",
    "        \"e\" : {\n",
    "            \"precision\" : e_precision,\n",
    "            \"recall\" : e_recall,\n",
    "            \"f1\" : e_f1\n",
    "        },\n",
    "        \"t\" : {\n",
    "            \"precision\" : t_precision,\n",
    "            \"recall\" : t_recall,\n",
    "            \"f1\" : t_f1\n",
    "        },\n",
    "        \"o\" : {\n",
    "            \"precision\" : o_precision,\n",
    "            \"recall\" : o_recall,\n",
    "            \"f1\" : o_f1\n",
    "        },\n",
    "        \"accuracy\" : accuracy\n",
    "    }\n",
    "\n",
    "    return avgd_output"
   ]
  },
  {
   "cell_type": "code",
   "execution_count": 36,
   "metadata": {},
   "outputs": [
    {
     "name": "stdout",
     "output_type": "stream",
     "text": [
      "Fold 0:\n",
      "Fold 1:\n",
      "Fold 2:\n",
      "Fold 3:\n",
      "Fold 4:\n",
      "Fold 0:\n",
      "Fold 1:\n",
      "Fold 2:\n",
      "Fold 3:\n",
      "Fold 4:\n"
     ]
    }
   ],
   "source": [
    "kf = KFold(n_splits=5, random_state=None, shuffle=False)\n",
    "\n",
    "test_arr = np.array([1, 2, 3, 4, 5])\n",
    "\n",
    "knn = KNeighborsClassifier(n_neighbors=7)\n",
    "nb = MultinomialNB()\n",
    "\n",
    "knn_tfidf_folds = []\n",
    "knn_cv_folds = []\n",
    "nb_tfidf_folds = []\n",
    "nb_cv_folds = []\n",
    "\n",
    "for i, (train_index, test_index) in enumerate(kf.split(X_tfidf)):\n",
    "    print(f\"Fold {i}:\")\n",
    "    \n",
    "    X_train = X_tfidf[train_index]\n",
    "    X_test = X_tfidf[test_index]\n",
    "    y_train = y[train_index]\n",
    "    y_test = y[test_index]\n",
    "\n",
    "    # K Nearest Neighbours with TF-IDF\n",
    "    knn.fit(X_train, y_train)\n",
    "    knn_pred = knn.predict(X_test)\n",
    "    knn_tfidf_currfold = classification_report(y_test, knn_pred, output_dict=True)\n",
    "    knn_tfidf_folds.append(knn_tfidf_currfold)\n",
    "\n",
    "    # Naive Bayes with TF-IDF\n",
    "    nb.fit(X_train, y_train)\n",
    "    nb_pred = nb.predict(X_test)\n",
    "    nb_tfidf_currfold = classification_report(y_test, nb_pred, output_dict=True)\n",
    "    nb_tfidf_folds.append(nb_tfidf_currfold)\n",
    "\n",
    "for i, (train_index, test_index) in enumerate(kf.split(X_cv)):\n",
    "    print(f\"Fold {i}:\")\n",
    "    \n",
    "    X_train = X_cv[train_index]\n",
    "    X_test = X_cv[test_index]\n",
    "    y_train = y[train_index]\n",
    "    y_test = y[test_index]\n",
    "\n",
    "    # K Nearest Neighbours with Count Vectoriser\n",
    "    knn.fit(X_train, y_train)\n",
    "    knn_pred = knn.predict(X_test)\n",
    "    knn_tfidf_currfold = classification_report(y_test, knn_pred, output_dict=True)\n",
    "    knn_cv_folds.append(knn_tfidf_currfold)\n",
    "\n",
    "    # Naive Bayes with Count Vectoriser\n",
    "    nb.fit(X_train, y_train)\n",
    "    nb_pred = nb.predict(X_test)\n",
    "    nb_tfidf_currfold = classification_report(y_test, nb_pred, output_dict=True)\n",
    "    nb_cv_folds.append(nb_tfidf_currfold)\n",
    "\n"
   ]
  },
  {
   "cell_type": "code",
   "execution_count": 37,
   "metadata": {},
   "outputs": [
    {
     "name": "stdout",
     "output_type": "stream",
     "text": [
      "KNN TF-IDF Folds\n",
      "Averaging Classifcation Reports\n",
      "d\n",
      "\tprecision\n",
      "\t\t1.0\n",
      "\trecall\n",
      "\t\t0.6561904761904762\n",
      "\tf1\n",
      "\t\t0.7742857142857142\n",
      "e\n",
      "\tprecision\n",
      "\t\t0.9550000000000001\n",
      "\trecall\n",
      "\t\t0.6\n",
      "\tf1\n",
      "\t\t0.7260453272217979\n",
      "t\n",
      "\tprecision\n",
      "\t\t1.0\n",
      "\trecall\n",
      "\t\t0.7878571428571429\n",
      "\tf1\n",
      "\t\t0.8705128205128204\n",
      "o\n",
      "\tprecision\n",
      "\t\t0.6099924552098466\n",
      "\trecall\n",
      "\t\t0.9875\n",
      "\tf1\n",
      "\t\t0.7477586969747249\n",
      "accuracy\n",
      "\t0.7720930232558139\n",
      "\n",
      "NB TF-IDF\n",
      "Averaging Classifcation Reports\n",
      "d\n",
      "\tprecision\n",
      "\t\t0.9318181818181819\n",
      "\trecall\n",
      "\t\t0.975\n",
      "\tf1\n",
      "\t\t0.9485714285714286\n",
      "e\n",
      "\tprecision\n",
      "\t\t0.9253621378621378\n",
      "\trecall\n",
      "\t\t0.9875\n",
      "\tf1\n",
      "\t\t0.954591575091575\n",
      "t\n",
      "\tprecision\n",
      "\t\t1.0\n",
      "\trecall\n",
      "\t\t0.915\n",
      "\tf1\n",
      "\t\t0.9513725490196079\n",
      "o\n",
      "\tprecision\n",
      "\t\t0.9491666666666667\n",
      "\trecall\n",
      "\t\t0.9277272727272727\n",
      "\tf1\n",
      "\t\t0.9347950439869717\n",
      "accuracy\n",
      "\t0.944186046511628\n",
      "\n",
      "KNN Count Vectoriser\n",
      "Averaging Classifcation Reports\n",
      "d\n",
      "\tprecision\n",
      "\t\t0.95\n",
      "\trecall\n",
      "\t\t0.8734126984126984\n",
      "\tf1\n",
      "\t\t0.8997619047619047\n",
      "e\n",
      "\tprecision\n",
      "\t\t0.9236363636363636\n",
      "\trecall\n",
      "\t\t0.8716666666666665\n",
      "\tf1\n",
      "\t\t0.8948541313758704\n",
      "t\n",
      "\tprecision\n",
      "\t\t0.975\n",
      "\trecall\n",
      "\t\t0.715952380952381\n",
      "\tf1\n",
      "\t\t0.8169786096256685\n",
      "o\n",
      "\tprecision\n",
      "\t\t0.7577030812324929\n",
      "\trecall\n",
      "\t\t0.9386363636363637\n",
      "\tf1\n",
      "\t\t0.834108527131783\n",
      "accuracy\n",
      "\t0.8651162790697674\n",
      "\n",
      "NB Count Vectoriser\n",
      "Averaging Classifcation Reports\n",
      "d\n",
      "\tprecision\n",
      "\t\t0.9318181818181819\n",
      "\trecall\n",
      "\t\t1.0\n",
      "\tf1\n",
      "\t\t0.9619047619047618\n",
      "e\n",
      "\tprecision\n",
      "\t\t0.936043956043956\n",
      "\trecall\n",
      "\t\t0.9675\n",
      "\tf1\n",
      "\t\t0.9501637717121589\n",
      "t\n",
      "\tprecision\n",
      "\t\t0.7828571428571429\n",
      "\trecall\n",
      "\t\t0.915\n",
      "\tf1\n",
      "\t\t0.8059569738826704\n",
      "o\n",
      "\tprecision\n",
      "\t\t0.96\n",
      "\trecall\n",
      "\t\t0.8025\n",
      "\tf1\n",
      "\t\t0.8579470497876569\n",
      "accuracy\n",
      "\t0.8930232558139535\n",
      "\n"
     ]
    }
   ],
   "source": [
    "def pretty(d, indent=0):\n",
    "   for key, value in d.items():\n",
    "      print('\\t' * indent + str(key))\n",
    "      if isinstance(value, dict):\n",
    "         pretty(value, indent+1)\n",
    "      else:\n",
    "         print('\\t' * (indent+1) + str(value))\n",
    "\n",
    "print(\"KNN TF-IDF Folds\")\n",
    "pretty(avg_classification_report(knn_tfidf_folds))\n",
    "print()\n",
    "\n",
    "print(\"NB TF-IDF\")\n",
    "pretty(avg_classification_report(nb_tfidf_folds))\n",
    "print()\n",
    "\n",
    "print(\"KNN Count Vectoriser\")\n",
    "pretty(avg_classification_report(knn_cv_folds))\n",
    "print()\n",
    "\n",
    "print(\"NB Count Vectoriser\")\n",
    "pretty(avg_classification_report(nb_cv_folds))\n",
    "print()"
   ]
  },
  {
   "attachments": {},
   "cell_type": "markdown",
   "metadata": {},
   "source": [
    "### Traditional - Training and Test\n",
    "\n",
    "In this section, the training and evaluation of the dataset takes place."
   ]
  },
  {
   "cell_type": "code",
   "execution_count": 9,
   "metadata": {},
   "outputs": [],
   "source": [
    "X_train, X_test, y_train, y_test = train_test_split(X, y, test_size=0.2, random_state=None)"
   ]
  },
  {
   "cell_type": "code",
   "execution_count": 10,
   "metadata": {},
   "outputs": [
    {
     "data": {
      "text/plain": [
       "MultinomialNB()"
      ]
     },
     "execution_count": 10,
     "metadata": {},
     "output_type": "execute_result"
    }
   ],
   "source": [
    "knn = KNeighborsClassifier(n_neighbors=7)\n",
    "\n",
    "nb = MultinomialNB()\n",
    "\n",
    "knn.fit(X_train, y_train)\n",
    "nb.fit(X_train, y_train)"
   ]
  },
  {
   "cell_type": "code",
   "execution_count": 11,
   "metadata": {},
   "outputs": [],
   "source": [
    "knn_pred = knn.predict(X_test)\n",
    "nb_pred = nb.predict(X_test)"
   ]
  },
  {
   "cell_type": "code",
   "execution_count": 12,
   "metadata": {},
   "outputs": [
    {
     "name": "stdout",
     "output_type": "stream",
     "text": [
      "K Nearest Neighbours\n",
      "              precision    recall  f1-score   support\n",
      "\n",
      "           d       1.00      0.67      0.80         6\n",
      "           e       1.00      0.70      0.82        10\n",
      "           o       0.75      1.00      0.86        18\n",
      "           t       1.00      0.89      0.94         9\n",
      "\n",
      "    accuracy                           0.86        43\n",
      "   macro avg       0.94      0.81      0.86        43\n",
      "weighted avg       0.90      0.86      0.86        43\n",
      "\n",
      "Naive Bayes\n",
      "              precision    recall  f1-score   support\n",
      "\n",
      "           d       1.00      1.00      1.00         6\n",
      "           e       0.91      1.00      0.95        10\n",
      "           o       0.94      0.94      0.94        18\n",
      "           t       1.00      0.89      0.94         9\n",
      "\n",
      "    accuracy                           0.95        43\n",
      "   macro avg       0.96      0.96      0.96        43\n",
      "weighted avg       0.96      0.95      0.95        43\n",
      "\n"
     ]
    }
   ],
   "source": [
    "print(\"K Nearest Neighbours\")\n",
    "print(classification_report(y_test, knn_pred))\n",
    "\n",
    "print(\"Naive Bayes\")\n",
    "print(classification_report(y_test, nb_pred))"
   ]
  },
  {
   "attachments": {},
   "cell_type": "markdown",
   "metadata": {},
   "source": [
    "#  Saving the model\n",
    "\n",
    "In the following sections, the model is being saved for later uses using Pickle"
   ]
  },
  {
   "cell_type": "code",
   "execution_count": 13,
   "metadata": {},
   "outputs": [],
   "source": [
    "import pickle"
   ]
  },
  {
   "cell_type": "code",
   "execution_count": 18,
   "metadata": {},
   "outputs": [],
   "source": [
    "# Save the classification model\n",
    "pickle.dump(nb, open(\"nb_classifier.pickle\", \"wb\"))\n",
    "\n",
    "# Save the Vectoriser\n",
    "pickle.dump(tf, open(\"vectoriser.pickle\", \"wb\"))"
   ]
  },
  {
   "cell_type": "code",
   "execution_count": 19,
   "metadata": {},
   "outputs": [
    {
     "name": "stdout",
     "output_type": "stream",
     "text": [
      "MultinomialNB()\n",
      "TfidfVectorizer(max_features=5000)\n"
     ]
    }
   ],
   "source": [
    "clf = pickle.load(open(\"nb_classifier.pickle\", \"rb\"))\n",
    "vec = pickle.load(open(\"vectoriser.pickle\", \"rb\"))\n",
    "\n",
    "print(clf)\n",
    "print(vec)"
   ]
  },
  {
   "cell_type": "code",
   "execution_count": 20,
   "metadata": {},
   "outputs": [
    {
     "name": "stdout",
     "output_type": "stream",
     "text": [
      "['o' 'o' 'e' 'o' 'o' 'd' 'e' 't' 'o' 'o' 'e' 't' 'd' 't' 'd' 'o' 'e' 'o'\n",
      " 'd' 'o' 'e' 't' 'o' 't' 'o' 'o' 't' 'e' 't' 'o' 'o' 'e' 'e' 'o' 'd' 'e'\n",
      " 't' 'e' 'o' 'o' 'd' 'e' 'o']\n",
      "Naive Bayes\n",
      "              precision    recall  f1-score   support\n",
      "\n",
      "           d       1.00      1.00      1.00         6\n",
      "           e       0.91      1.00      0.95        10\n",
      "           o       0.94      0.94      0.94        18\n",
      "           t       1.00      0.89      0.94         9\n",
      "\n",
      "    accuracy                           0.95        43\n",
      "   macro avg       0.96      0.96      0.96        43\n",
      "weighted avg       0.96      0.95      0.95        43\n",
      "\n"
     ]
    }
   ],
   "source": [
    "clf_pred = clf.predict(X_test)\n",
    "print(clf_pred)\n",
    "print(\"Naive Bayes\")\n",
    "print(classification_report(y_test, nb_pred))"
   ]
  },
  {
   "attachments": {},
   "cell_type": "markdown",
   "metadata": {},
   "source": [
    "# Visualisation & Testing\n",
    "\n",
    "In the following sections the best model is being tested by loading tables from a new unlabelled file."
   ]
  },
  {
   "cell_type": "code",
   "execution_count": 33,
   "metadata": {},
   "outputs": [
    {
     "name": "stdout",
     "output_type": "stream",
     "text": [
      "Electrical Performance No Efficiency Pmpp W Umpp V Impp A Uoc v Isc A\n",
      "['Electrical', 'Performance', 'No', 'Efficiency', 'Pmpp', 'W', 'Umpp', 'V', 'Impp', 'A', 'Uoc', 'v', 'Isc', 'A']\n",
      "['e']\n"
     ]
    }
   ],
   "source": [
    "sample_ds = Datasheet()\n",
    "sample_ds.load_tables_from_excel(\"/Volumes/T7/thesis-data/test/single_excel/test.xlsx\")\n",
    "\n",
    "low = sample_ds.tables[0].low\n",
    "\n",
    "sow = ' '.join(low)\n",
    "\n",
    "print(sow)\n",
    "\n",
    "print(low)\n",
    "\n",
    "tow = vec.transform([sow])\n",
    "\n",
    "print(clf.predict(tow))"
   ]
  },
  {
   "cell_type": "code",
   "execution_count": 43,
   "metadata": {},
   "outputs": [
    {
     "name": "stdout",
     "output_type": "stream",
     "text": [
      "d\n",
      "o\n",
      "t\n",
      "e\n"
     ]
    }
   ],
   "source": [
    "sample_ds_2 = Datasheet(\n",
    "    path_to_excel=\"/Volumes/T7/thesis-data/test/single_excel/Allesun_AV-166-9M.xlsx\",\n",
    "    path_to_clf=\"nb_classifier.pickle\",\n",
    "    path_to_vec=\"vectoriser.pickle\"\n",
    "    )"
   ]
  },
  {
   "cell_type": "code",
   "execution_count": null,
   "metadata": {},
   "outputs": [],
   "source": []
  }
 ],
 "metadata": {
  "kernelspec": {
   "display_name": "Thesis",
   "language": "python",
   "name": "python3"
  },
  "language_info": {
   "codemirror_mode": {
    "name": "ipython",
    "version": 3
   },
   "file_extension": ".py",
   "mimetype": "text/x-python",
   "name": "python",
   "nbconvert_exporter": "python",
   "pygments_lexer": "ipython3",
   "version": "3.7.15"
  },
  "orig_nbformat": 4,
  "vscode": {
   "interpreter": {
    "hash": "65aa49fd346b65e227272bb7d1218f3084fee0c005b33390f58f3181d148085d"
   }
  }
 },
 "nbformat": 4,
 "nbformat_minor": 2
}
