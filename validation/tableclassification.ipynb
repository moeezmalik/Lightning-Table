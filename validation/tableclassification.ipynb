{
 "cells": [
  {
   "cell_type": "code",
   "execution_count": 1,
   "metadata": {},
   "outputs": [],
   "source": [
    "# iPython Setting\n",
    "%load_ext autoreload\n",
    "%autoreload 2\n",
    "\n",
    "# Imports\n",
    "import pandas as pd\n",
    "from cellstructure import Datasheet\n",
    "from files import get_list_of_files_with_ext, join"
   ]
  },
  {
   "attachments": {},
   "cell_type": "markdown",
   "metadata": {},
   "source": [
    "# String Cleanup\n",
    "\n",
    "In this section, the individual keywords extracted from the table are cleaned up"
   ]
  },
  {
   "cell_type": "code",
   "execution_count": 2,
   "metadata": {},
   "outputs": [
    {
     "name": "stdout",
     "output_type": "stream",
     "text": [
      "/Volumes/T7/thesis-data/test/selected_excel/59bf894a49f3c.xlsx\n"
     ]
    }
   ],
   "source": [
    "# Files and paths\n",
    "path_to_excel_folder = \"/Volumes/T7/thesis-data/test/selected_excel/\"\n",
    "\n",
    "file_list = get_list_of_files_with_ext(\n",
    "    path_to_folder=path_to_excel_folder,\n",
    "    ext=\"xlsx\",\n",
    "    verbose=False,\n",
    "    randomise=True\n",
    ")\n",
    "\n",
    "single_file = file_list[0]\n",
    "\n",
    "print(single_file)"
   ]
  },
  {
   "cell_type": "code",
   "execution_count": 3,
   "metadata": {},
   "outputs": [
    {
     "name": "stdout",
     "output_type": "stream",
     "text": [
      "59bf894a49f3c.xlsx\n",
      "\n",
      "Table_1\n",
      "\n",
      "           0      1      2      3       4       5      6\n",
      "0     Eff(%)  Pm(W)  Vm(V)  Im(A)  Voc(V)  Isc(A)  FF(%)\n",
      "1  18.5-18.6   2.87  0.528  5.428   0.632   5.751  78.94\n",
      "2  18.4-18.5   2.86  0.528  5.408   0.632   5.731  78.84\n",
      "3  18.3-18.4   2.84  0.528  5.378   0.631   5.712  78.77\n",
      "4  18.2-18.3   2.83  0.527  5.363   0.631   5.694  78.67\n",
      "5  18.1-18.2   2.81  0.526  5.338   0.630   5.678  78.54\n",
      "6  18.0-18.1   2.79  0.525  5.322   0.629   5.664  78.39\n",
      "7  17.8-18.0   2.78  0.523  5.301   0.629   5.640  78.19\n",
      "8  17.6-17.8   2.74  0.521  5.266   0.628   5.610  77.90\n",
      "\n",
      "['Eff', 'Pm', 'W', 'Vm', 'V', 'Im', 'A', 'Voc', 'V', 'Isc', 'A', 'FF']\n",
      "\n",
      "Table_2\n",
      "\n",
      "           0                                              1          2  \\\n",
      "0  CELL TYPE                                          a(mm)      b(mm)   \n",
      "1       M652                                       0.5\\n125  62    0.5   \n",
      "2   Comments                    a——Side length of the cell;              \n",
      "3             b——Center to center distance between busbars;              \n",
      "4                            c——Width of front side busbar;              \n",
      "5                             d——Width of back side busbar;              \n",
      "\n",
      "            3  \n",
      "0       c(mm)  \n",
      "1  1.5    0.1  \n",
      "2              \n",
      "3              \n",
      "4              \n",
      "5              \n",
      "\n",
      "['CELL', 'TYPE', 'a', 'mm', 'b', 'mm', 'c', 'mm', 'M', 'Comments', 'aSide', 'length', 'of', 'the', 'cell', 'bCenter', 'to', 'center', 'distance', 'between', 'busbars', 'cWidth', 'of', 'front', 'side', 'busbar', 'dWidth', 'of', 'back', 'side', 'busbar']\n"
     ]
    }
   ],
   "source": [
    "ds = Datasheet()\n",
    "ds.load_tables_from_excel(path_to_excel=single_file)\n",
    "\n",
    "print(ds.name)\n",
    "\n",
    "for table in ds.tables:\n",
    "    print()\n",
    "    print(table.name)\n",
    "    print()\n",
    "    print(table.raw_df)\n",
    "    print()\n",
    "    print(table.low)"
   ]
  },
  {
   "attachments": {},
   "cell_type": "markdown",
   "metadata": {},
   "source": [
    "# Keyword Modelling\n",
    "\n",
    "The the keywords and their labels are converted to sentences. It is not the most efficient way to do this, but it will get the job done. Needs to be reformulated if there are a large number of files and tables."
   ]
  },
  {
   "cell_type": "code",
   "execution_count": 4,
   "metadata": {},
   "outputs": [
    {
     "data": {
      "text/html": [
       "<div>\n",
       "<style scoped>\n",
       "    .dataframe tbody tr th:only-of-type {\n",
       "        vertical-align: middle;\n",
       "    }\n",
       "\n",
       "    .dataframe tbody tr th {\n",
       "        vertical-align: top;\n",
       "    }\n",
       "\n",
       "    .dataframe thead th {\n",
       "        text-align: right;\n",
       "    }\n",
       "</style>\n",
       "<table border=\"1\" class=\"dataframe\">\n",
       "  <thead>\n",
       "    <tr style=\"text-align: right;\">\n",
       "      <th></th>\n",
       "      <th>keywords</th>\n",
       "      <th>class</th>\n",
       "    </tr>\n",
       "  </thead>\n",
       "  <tbody>\n",
       "    <tr>\n",
       "      <th>0</th>\n",
       "      <td>Efficiency Code Unit Efficiency Eff Power Ppm ...</td>\n",
       "      <td>e</td>\n",
       "    </tr>\n",
       "    <tr>\n",
       "      <th>1</th>\n",
       "      <td>Dimension mm mm mm Thickness Si m m Front Sili...</td>\n",
       "      <td>d</td>\n",
       "    </tr>\n",
       "    <tr>\n",
       "      <th>2</th>\n",
       "      <td>Efficiency Code Unit Efficiency Eff Power Ppm ...</td>\n",
       "      <td>e</td>\n",
       "    </tr>\n",
       "    <tr>\n",
       "      <th>3</th>\n",
       "      <td>Light Intensity Dependence Intensity Wm Vpm Ipm</td>\n",
       "      <td>o</td>\n",
       "    </tr>\n",
       "    <tr>\n",
       "      <th>4</th>\n",
       "      <td>Temperature Coefficients Current Temperature C...</td>\n",
       "      <td>t</td>\n",
       "    </tr>\n",
       "  </tbody>\n",
       "</table>\n",
       "</div>"
      ],
      "text/plain": [
       "                                            keywords class\n",
       "0  Efficiency Code Unit Efficiency Eff Power Ppm ...     e\n",
       "1  Dimension mm mm mm Thickness Si m m Front Sili...     d\n",
       "2  Efficiency Code Unit Efficiency Eff Power Ppm ...     e\n",
       "3    Light Intensity Dependence Intensity Wm Vpm Ipm     o\n",
       "4  Temperature Coefficients Current Temperature C...     t"
      ]
     },
     "execution_count": 4,
     "metadata": {},
     "output_type": "execute_result"
    }
   ],
   "source": [
    "labels_file = \"/Volumes/T7/thesis-data/test/selected_excel/labels.csv\"\n",
    "\n",
    "labels_df = pd.read_csv(labels_file, names=['filename', 'tablename', 'class'])\n",
    "labels_list = labels_df.values.tolist()\n",
    "\n",
    "ds = Datasheet()\n",
    "\n",
    "useful_list = []\n",
    "\n",
    "for label in labels_list:\n",
    "\n",
    "    path_to_ds = join(path_to_excel_folder, label[0])\n",
    "\n",
    "    ds.load_tables_from_excel(path_to_ds)\n",
    "\n",
    "    for table in ds.tables:\n",
    "\n",
    "        if table.name == label[1]:\n",
    "\n",
    "            sow = ' '.join(table.low)\n",
    "\n",
    "            useful_list.append([sow, label[2]])\n",
    "\n",
    "\n",
    "useful_df = pd.DataFrame(useful_list, columns=['keywords', 'class'])\n",
    "useful_df.head()"
   ]
  },
  {
   "cell_type": "code",
   "execution_count": 5,
   "metadata": {},
   "outputs": [],
   "source": [
    "path_to_useful_csv = \"/Volumes/T7/thesis-data/test/selected_excel/cleaned-up-2.csv\"\n",
    "useful_df.to_csv(path_to_useful_csv, header=False, index=False)"
   ]
  },
  {
   "attachments": {},
   "cell_type": "markdown",
   "metadata": {},
   "source": [
    "# Fitting the Model\n",
    "\n",
    "In this section we will try our hand at this prediction thing"
   ]
  },
  {
   "cell_type": "code",
   "execution_count": 6,
   "metadata": {},
   "outputs": [],
   "source": [
    "from sklearn.feature_extraction.text import CountVectorizer, TfidfVectorizer\n",
    "from sklearn.model_selection import train_test_split\n",
    "from sklearn.metrics import classification_report\n",
    "\n",
    "from sklearn.neighbors import KNeighborsClassifier\n",
    "from sklearn.naive_bayes import MultinomialNB"
   ]
  },
  {
   "cell_type": "code",
   "execution_count": 7,
   "metadata": {},
   "outputs": [
    {
     "data": {
      "text/html": [
       "<div>\n",
       "<style scoped>\n",
       "    .dataframe tbody tr th:only-of-type {\n",
       "        vertical-align: middle;\n",
       "    }\n",
       "\n",
       "    .dataframe tbody tr th {\n",
       "        vertical-align: top;\n",
       "    }\n",
       "\n",
       "    .dataframe thead th {\n",
       "        text-align: right;\n",
       "    }\n",
       "</style>\n",
       "<table border=\"1\" class=\"dataframe\">\n",
       "  <thead>\n",
       "    <tr style=\"text-align: right;\">\n",
       "      <th></th>\n",
       "      <th>keywords</th>\n",
       "      <th>class</th>\n",
       "    </tr>\n",
       "  </thead>\n",
       "  <tbody>\n",
       "    <tr>\n",
       "      <th>0</th>\n",
       "      <td>Efficiency Code Unit Efficiency Eff Power Ppm ...</td>\n",
       "      <td>e</td>\n",
       "    </tr>\n",
       "    <tr>\n",
       "      <th>1</th>\n",
       "      <td>Dimension mm mm mm Thickness Si m m Front Sili...</td>\n",
       "      <td>d</td>\n",
       "    </tr>\n",
       "    <tr>\n",
       "      <th>2</th>\n",
       "      <td>Efficiency Code Unit Efficiency Eff Power Ppm ...</td>\n",
       "      <td>e</td>\n",
       "    </tr>\n",
       "    <tr>\n",
       "      <th>3</th>\n",
       "      <td>Light Intensity Dependence Intensity Wm Vpm Ipm</td>\n",
       "      <td>o</td>\n",
       "    </tr>\n",
       "    <tr>\n",
       "      <th>4</th>\n",
       "      <td>Temperature Coefficients Current Temperature C...</td>\n",
       "      <td>t</td>\n",
       "    </tr>\n",
       "  </tbody>\n",
       "</table>\n",
       "</div>"
      ],
      "text/plain": [
       "                                            keywords class\n",
       "0  Efficiency Code Unit Efficiency Eff Power Ppm ...     e\n",
       "1  Dimension mm mm mm Thickness Si m m Front Sili...     d\n",
       "2  Efficiency Code Unit Efficiency Eff Power Ppm ...     e\n",
       "3    Light Intensity Dependence Intensity Wm Vpm Ipm     o\n",
       "4  Temperature Coefficients Current Temperature C...     t"
      ]
     },
     "execution_count": 7,
     "metadata": {},
     "output_type": "execute_result"
    }
   ],
   "source": [
    "path_to_useful_csv = \"/Volumes/T7/thesis-data/test/selected_excel/cleaned-up-2.csv\"\n",
    "\n",
    "useful_df = pd.read_csv(path_to_useful_csv, names=['keywords', 'class'])\n",
    "useful_df.fillna(value=\"\", inplace=True)\n",
    "useful_df.head()"
   ]
  },
  {
   "cell_type": "code",
   "execution_count": 8,
   "metadata": {},
   "outputs": [
    {
     "data": {
      "text/plain": [
       "<215x521 sparse matrix of type '<class 'numpy.float64'>'\n",
       "\twith 2748 stored elements in Compressed Sparse Row format>"
      ]
     },
     "execution_count": 8,
     "metadata": {},
     "output_type": "execute_result"
    }
   ],
   "source": [
    "cv = CountVectorizer(max_features=5000)\n",
    "tf = TfidfVectorizer(max_features=5000)\n",
    "\n",
    "X = useful_df['keywords']\n",
    "y = useful_df['class']\n",
    "\n",
    "X = tf.fit_transform(X)\n",
    "\n",
    "X"
   ]
  },
  {
   "cell_type": "code",
   "execution_count": 9,
   "metadata": {},
   "outputs": [],
   "source": [
    "X_train, X_test, y_train, y_test = train_test_split(X, y, test_size=0.2, random_state=None)"
   ]
  },
  {
   "cell_type": "code",
   "execution_count": 10,
   "metadata": {},
   "outputs": [
    {
     "data": {
      "text/plain": [
       "MultinomialNB()"
      ]
     },
     "execution_count": 10,
     "metadata": {},
     "output_type": "execute_result"
    }
   ],
   "source": [
    "knn = KNeighborsClassifier(n_neighbors=7)\n",
    "\n",
    "nb = MultinomialNB()\n",
    "\n",
    "knn.fit(X_train, y_train)\n",
    "nb.fit(X_train, y_train)"
   ]
  },
  {
   "cell_type": "code",
   "execution_count": 11,
   "metadata": {},
   "outputs": [],
   "source": [
    "knn_pred = knn.predict(X_test)\n",
    "nb_pred = nb.predict(X_test)"
   ]
  },
  {
   "cell_type": "code",
   "execution_count": 12,
   "metadata": {},
   "outputs": [
    {
     "name": "stdout",
     "output_type": "stream",
     "text": [
      "K Nearest Neighbours\n",
      "              precision    recall  f1-score   support\n",
      "\n",
      "           d       1.00      0.67      0.80         6\n",
      "           e       1.00      0.70      0.82        10\n",
      "           o       0.75      1.00      0.86        18\n",
      "           t       1.00      0.89      0.94         9\n",
      "\n",
      "    accuracy                           0.86        43\n",
      "   macro avg       0.94      0.81      0.86        43\n",
      "weighted avg       0.90      0.86      0.86        43\n",
      "\n",
      "Naive Bayes\n",
      "              precision    recall  f1-score   support\n",
      "\n",
      "           d       1.00      1.00      1.00         6\n",
      "           e       0.91      1.00      0.95        10\n",
      "           o       0.94      0.94      0.94        18\n",
      "           t       1.00      0.89      0.94         9\n",
      "\n",
      "    accuracy                           0.95        43\n",
      "   macro avg       0.96      0.96      0.96        43\n",
      "weighted avg       0.96      0.95      0.95        43\n",
      "\n"
     ]
    }
   ],
   "source": [
    "print(\"K Nearest Neighbours\")\n",
    "print(classification_report(y_test, knn_pred))\n",
    "\n",
    "print(\"Naive Bayes\")\n",
    "print(classification_report(y_test, nb_pred))"
   ]
  },
  {
   "cell_type": "code",
   "execution_count": 13,
   "metadata": {},
   "outputs": [],
   "source": [
    "import pickle"
   ]
  },
  {
   "cell_type": "code",
   "execution_count": 18,
   "metadata": {},
   "outputs": [],
   "source": [
    "# Save the classification model\n",
    "pickle.dump(nb, open(\"nb_classifier.pickle\", \"wb\"))\n",
    "\n",
    "# Save the Vectoriser\n",
    "pickle.dump(tf, open(\"vectoriser.pickle\", \"wb\"))"
   ]
  },
  {
   "cell_type": "code",
   "execution_count": 19,
   "metadata": {},
   "outputs": [
    {
     "name": "stdout",
     "output_type": "stream",
     "text": [
      "MultinomialNB()\n",
      "TfidfVectorizer(max_features=5000)\n"
     ]
    }
   ],
   "source": [
    "clf = pickle.load(open(\"nb_classifier.pickle\", \"rb\"))\n",
    "vec = pickle.load(open(\"vectoriser.pickle\", \"rb\"))\n",
    "\n",
    "print(clf)\n",
    "print(vec)"
   ]
  },
  {
   "cell_type": "code",
   "execution_count": 20,
   "metadata": {},
   "outputs": [
    {
     "name": "stdout",
     "output_type": "stream",
     "text": [
      "['o' 'o' 'e' 'o' 'o' 'd' 'e' 't' 'o' 'o' 'e' 't' 'd' 't' 'd' 'o' 'e' 'o'\n",
      " 'd' 'o' 'e' 't' 'o' 't' 'o' 'o' 't' 'e' 't' 'o' 'o' 'e' 'e' 'o' 'd' 'e'\n",
      " 't' 'e' 'o' 'o' 'd' 'e' 'o']\n",
      "Naive Bayes\n",
      "              precision    recall  f1-score   support\n",
      "\n",
      "           d       1.00      1.00      1.00         6\n",
      "           e       0.91      1.00      0.95        10\n",
      "           o       0.94      0.94      0.94        18\n",
      "           t       1.00      0.89      0.94         9\n",
      "\n",
      "    accuracy                           0.95        43\n",
      "   macro avg       0.96      0.96      0.96        43\n",
      "weighted avg       0.96      0.95      0.95        43\n",
      "\n"
     ]
    }
   ],
   "source": [
    "clf_pred = clf.predict(X_test)\n",
    "print(clf_pred)\n",
    "print(\"Naive Bayes\")\n",
    "print(classification_report(y_test, nb_pred))"
   ]
  },
  {
   "cell_type": "code",
   "execution_count": 33,
   "metadata": {},
   "outputs": [
    {
     "name": "stdout",
     "output_type": "stream",
     "text": [
      "Electrical Performance No Efficiency Pmpp W Umpp V Impp A Uoc v Isc A\n",
      "['Electrical', 'Performance', 'No', 'Efficiency', 'Pmpp', 'W', 'Umpp', 'V', 'Impp', 'A', 'Uoc', 'v', 'Isc', 'A']\n",
      "['e']\n"
     ]
    }
   ],
   "source": [
    "sample_ds = Datasheet()\n",
    "sample_ds.load_tables_from_excel(\"/Volumes/T7/thesis-data/test/single_excel/test.xlsx\")\n",
    "\n",
    "low = sample_ds.tables[0].low\n",
    "\n",
    "sow = ' '.join(low)\n",
    "\n",
    "print(sow)\n",
    "\n",
    "print(low)\n",
    "\n",
    "tow = vec.transform([sow])\n",
    "\n",
    "print(clf.predict(tow))"
   ]
  },
  {
   "cell_type": "code",
   "execution_count": 43,
   "metadata": {},
   "outputs": [
    {
     "name": "stdout",
     "output_type": "stream",
     "text": [
      "d\n",
      "o\n",
      "t\n",
      "e\n"
     ]
    }
   ],
   "source": [
    "sample_ds_2 = Datasheet(\n",
    "    path_to_excel=\"/Volumes/T7/thesis-data/test/single_excel/Allesun_AV-166-9M.xlsx\",\n",
    "    path_to_clf=\"nb_classifier.pickle\",\n",
    "    path_to_vec=\"vectoriser.pickle\"\n",
    "    )"
   ]
  },
  {
   "cell_type": "code",
   "execution_count": null,
   "metadata": {},
   "outputs": [],
   "source": []
  }
 ],
 "metadata": {
  "kernelspec": {
   "display_name": "Thesis",
   "language": "python",
   "name": "python3"
  },
  "language_info": {
   "codemirror_mode": {
    "name": "ipython",
    "version": 3
   },
   "file_extension": ".py",
   "mimetype": "text/x-python",
   "name": "python",
   "nbconvert_exporter": "python",
   "pygments_lexer": "ipython3",
   "version": "3.7.15"
  },
  "orig_nbformat": 4,
  "vscode": {
   "interpreter": {
    "hash": "65aa49fd346b65e227272bb7d1218f3084fee0c005b33390f58f3181d148085d"
   }
  }
 },
 "nbformat": 4,
 "nbformat_minor": 2
}
