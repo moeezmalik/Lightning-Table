{
 "cells": [
  {
   "cell_type": "code",
   "execution_count": 1,
   "metadata": {},
   "outputs": [
    {
     "name": "stdout",
     "output_type": "stream",
     "text": [
      "Time Lapsed = 0:0:0.3862478733062744\n",
      "----TEST END----\n"
     ]
    },
    {
     "name": "stderr",
     "output_type": "stream",
     "text": [
      "/Users/moeezmalik/Documents/Main/work/fraunhofer/thesis/Lightning-Table/validation/extract_excel_data.py:140: UserWarning: This pattern has match groups. To actually get the groups, use str.extract.\n",
      "  headername_row = df.iloc[:, 0].str.contains(pattern, flags=re.IGNORECASE, regex=True, na=False)\n",
      "/Users/moeezmalik/Documents/Main/work/fraunhofer/thesis/Lightning-Table/validation/extract_excel_data.py:154: UserWarning: This pattern has match groups. To actually get the groups, use str.extract.\n",
      "  headername_column = df.iloc[idx].str.contains(pattern, flags=re.IGNORECASE, regex=True, na=False)\n"
     ]
    }
   ],
   "source": [
    "# iPython Setting\n",
    "%load_ext autoreload\n",
    "%autoreload 2\n",
    "\n",
    "# Imports\n",
    "import pandas as pd\n",
    "from cellstructure import Datasheet\n",
    "from files import get_list_of_files_with_ext, join\n",
    "from extract_excel_data import doall"
   ]
  },
  {
   "cell_type": "code",
   "execution_count": 41,
   "metadata": {},
   "outputs": [
    {
     "name": "stdout",
     "output_type": "stream",
     "text": [
      "    none  Isc(A)  Voc(V) Impp(A) Vmpp(V) Pmpp(W)  none\n",
      "0    NaN  11.113  0.6874  10.582  0.5933    6.28   NaN\n",
      "1    NaN  11.100  0.6859  10.566  0.5916    6.25   NaN\n",
      "2    NaN  11.105  0.6837  10.540  0.5905    6.22   NaN\n",
      "3    NaN  11.090  0.6822  10.525  0.5887    6.20   NaN\n",
      "4    NaN  11.082  0.6811  10.503  0.5873    6.17   NaN\n",
      "5    NaN  11.075  0.6807  10.486  0.5856    6.14   NaN\n",
      "6    NaN  11.060  0.6790  10.477  0.5835    6.11   NaN\n",
      "7    NaN  11.046  0.6780  10.462  0.5817    6.09   NaN\n",
      "8    NaN  11.039  0.6777  10.448  0.5799    6.06   NaN\n",
      "9    NaN  11.021  0.6774  10.433  0.5781    6.03   NaN\n",
      "10   NaN  11.014  0.6748  10.424  0.5760    6.00   NaN\n",
      "11   NaN  10.996  0.6743  10.409  0.5742    5.98   NaN\n",
      "12   NaN  10.990  0.6729  10.401  0.5720    5.95   NaN\n",
      "13   NaN  10.974  0.6719  10.386  0.5701    5.92   NaN\n",
      "14   NaN  10.958  0.6713  10.371  0.5684    5.89   NaN\n",
      "15   NaN     NaN     NaN     NaN     NaN     NaN   NaN\n",
      "HELLO\n",
      "Index(['none', 'Isc(A)', 'Voc(V)', 'Impp(A)', 'Vmpp(V)', 'Pmpp(W)'], dtype='object')\n"
     ]
    },
    {
     "ename": "AttributeError",
     "evalue": "'Series' object has no attribute 'melt'",
     "output_type": "error",
     "traceback": [
      "\u001b[0;31m---------------------------------------------------------------------------\u001b[0m",
      "\u001b[0;31mAttributeError\u001b[0m                            Traceback (most recent call last)",
      "\u001b[0;32m/var/folders/z8/pbd3v74d4yg5dn8rwcfw_7bh0000gn/T/ipykernel_74657/192316347.py\u001b[0m in \u001b[0;36m<module>\u001b[0;34m\u001b[0m\n\u001b[0;32m----> 1\u001b[0;31m \u001b[0mstc\u001b[0m\u001b[0;34m,\u001b[0m \u001b[0mtemp\u001b[0m \u001b[0;34m=\u001b[0m \u001b[0mdoall\u001b[0m\u001b[0;34m(\u001b[0m\u001b[0;34m\"/Volumes/T7/thesis-data/cells-valueandvalidation/rawexcel/Wuxi_M166BP-PERC-9BB.xlsx\"\u001b[0m\u001b[0;34m)\u001b[0m\u001b[0;34m\u001b[0m\u001b[0;34m\u001b[0m\u001b[0m\n\u001b[0m",
      "\u001b[0;32m~/Documents/Main/work/fraunhofer/thesis/Lightning-Table/validation/extract_excel_data.py\u001b[0m in \u001b[0;36mdoall\u001b[0;34m(excel_file_path)\u001b[0m\n\u001b[1;32m    290\u001b[0m \u001b[0;34m\u001b[0m\u001b[0m\n\u001b[1;32m    291\u001b[0m             \u001b[0mactive_df\u001b[0m \u001b[0;34m=\u001b[0m \u001b[0mactive_df\u001b[0m\u001b[0;34m.\u001b[0m\u001b[0mrename\u001b[0m\u001b[0;34m(\u001b[0m\u001b[0mcolumns\u001b[0m\u001b[0;34m=\u001b[0m\u001b[0mactive_df\u001b[0m\u001b[0;34m.\u001b[0m\u001b[0miloc\u001b[0m\u001b[0;34m[\u001b[0m\u001b[0mindex_stc\u001b[0m\u001b[0;34m]\u001b[0m\u001b[0;34m)\u001b[0m\u001b[0;34m\u001b[0m\u001b[0;34m\u001b[0m\u001b[0m\n\u001b[0;32m--> 292\u001b[0;31m             \u001b[0mtable_stc_column\u001b[0m \u001b[0;34m=\u001b[0m \u001b[0mfilter_stc_data\u001b[0m\u001b[0;34m(\u001b[0m\u001b[0mactive_df\u001b[0m\u001b[0;34m,\u001b[0m \u001b[0;34m'electrical_params'\u001b[0m\u001b[0;34m,\u001b[0m \u001b[0mcheck_table_title_temp_coeff\u001b[0m\u001b[0;34m)\u001b[0m\u001b[0;34m\u001b[0m\u001b[0;34m\u001b[0m\u001b[0m\n\u001b[0m\u001b[1;32m    293\u001b[0m             \u001b[0mcomplete_stc_df\u001b[0m \u001b[0;34m=\u001b[0m \u001b[0mcomplete_stc_df\u001b[0m\u001b[0;34m.\u001b[0m\u001b[0mappend\u001b[0m\u001b[0;34m(\u001b[0m\u001b[0mtable_stc_column\u001b[0m\u001b[0;34m)\u001b[0m\u001b[0;34m\u001b[0m\u001b[0;34m\u001b[0m\u001b[0m\n\u001b[1;32m    294\u001b[0m \u001b[0;34m\u001b[0m\u001b[0m\n",
      "\u001b[0;32m~/Documents/Main/work/fraunhofer/thesis/Lightning-Table/validation/extract_excel_data.py\u001b[0m in \u001b[0;36mfilter_stc_data\u001b[0;34m(df, case, check_table_title_temp_coeff)\u001b[0m\n\u001b[1;32m    101\u001b[0m             \u001b[0mprint\u001b[0m\u001b[0;34m(\u001b[0m\u001b[0muniq\u001b[0m\u001b[0;34m)\u001b[0m\u001b[0;34m\u001b[0m\u001b[0;34m\u001b[0m\u001b[0m\n\u001b[1;32m    102\u001b[0m \u001b[0;34m\u001b[0m\u001b[0m\n\u001b[0;32m--> 103\u001b[0;31m             \u001b[0melectric_params_stc_df\u001b[0m \u001b[0;34m=\u001b[0m \u001b[0mpd\u001b[0m\u001b[0;34m.\u001b[0m\u001b[0mconcat\u001b[0m\u001b[0;34m(\u001b[0m\u001b[0;34m[\u001b[0m\u001b[0melectric_params_stc_df\u001b[0m\u001b[0;34m[\u001b[0m\u001b[0mc\u001b[0m\u001b[0;34m]\u001b[0m\u001b[0;34m.\u001b[0m\u001b[0mmelt\u001b[0m\u001b[0;34m(\u001b[0m\u001b[0;34m)\u001b[0m\u001b[0;34m[\u001b[0m\u001b[0;34m'value'\u001b[0m\u001b[0;34m]\u001b[0m \u001b[0;32mfor\u001b[0m \u001b[0mc\u001b[0m \u001b[0;32min\u001b[0m \u001b[0muniq\u001b[0m\u001b[0;34m]\u001b[0m\u001b[0;34m,\u001b[0m \u001b[0maxis\u001b[0m\u001b[0;34m=\u001b[0m\u001b[0;36m1\u001b[0m\u001b[0;34m,\u001b[0m \u001b[0mkeys\u001b[0m\u001b[0;34m=\u001b[0m\u001b[0muniq\u001b[0m\u001b[0;34m)\u001b[0m\u001b[0;34m\u001b[0m\u001b[0;34m\u001b[0m\u001b[0m\n\u001b[0m\u001b[1;32m    104\u001b[0m         \u001b[0;31m##--\u001b[0m\u001b[0;34m\u001b[0m\u001b[0;34m\u001b[0m\u001b[0;34m\u001b[0m\u001b[0m\n\u001b[1;32m    105\u001b[0m         \u001b[0;31m#electric_params_stc_df.apply(cleanup_and_convert_tofloat)\u001b[0m\u001b[0;34m\u001b[0m\u001b[0;34m\u001b[0m\u001b[0;34m\u001b[0m\u001b[0m\n",
      "\u001b[0;32m~/Documents/Main/work/fraunhofer/thesis/Lightning-Table/validation/extract_excel_data.py\u001b[0m in \u001b[0;36m<listcomp>\u001b[0;34m(.0)\u001b[0m\n\u001b[1;32m    101\u001b[0m             \u001b[0mprint\u001b[0m\u001b[0;34m(\u001b[0m\u001b[0muniq\u001b[0m\u001b[0;34m)\u001b[0m\u001b[0;34m\u001b[0m\u001b[0;34m\u001b[0m\u001b[0m\n\u001b[1;32m    102\u001b[0m \u001b[0;34m\u001b[0m\u001b[0m\n\u001b[0;32m--> 103\u001b[0;31m             \u001b[0melectric_params_stc_df\u001b[0m \u001b[0;34m=\u001b[0m \u001b[0mpd\u001b[0m\u001b[0;34m.\u001b[0m\u001b[0mconcat\u001b[0m\u001b[0;34m(\u001b[0m\u001b[0;34m[\u001b[0m\u001b[0melectric_params_stc_df\u001b[0m\u001b[0;34m[\u001b[0m\u001b[0mc\u001b[0m\u001b[0;34m]\u001b[0m\u001b[0;34m.\u001b[0m\u001b[0mmelt\u001b[0m\u001b[0;34m(\u001b[0m\u001b[0;34m)\u001b[0m\u001b[0;34m[\u001b[0m\u001b[0;34m'value'\u001b[0m\u001b[0;34m]\u001b[0m \u001b[0;32mfor\u001b[0m \u001b[0mc\u001b[0m \u001b[0;32min\u001b[0m \u001b[0muniq\u001b[0m\u001b[0;34m]\u001b[0m\u001b[0;34m,\u001b[0m \u001b[0maxis\u001b[0m\u001b[0;34m=\u001b[0m\u001b[0;36m1\u001b[0m\u001b[0;34m,\u001b[0m \u001b[0mkeys\u001b[0m\u001b[0;34m=\u001b[0m\u001b[0muniq\u001b[0m\u001b[0;34m)\u001b[0m\u001b[0;34m\u001b[0m\u001b[0;34m\u001b[0m\u001b[0m\n\u001b[0m\u001b[1;32m    104\u001b[0m         \u001b[0;31m##--\u001b[0m\u001b[0;34m\u001b[0m\u001b[0;34m\u001b[0m\u001b[0;34m\u001b[0m\u001b[0m\n\u001b[1;32m    105\u001b[0m         \u001b[0;31m#electric_params_stc_df.apply(cleanup_and_convert_tofloat)\u001b[0m\u001b[0;34m\u001b[0m\u001b[0;34m\u001b[0m\u001b[0;34m\u001b[0m\u001b[0m\n",
      "\u001b[0;32m/usr/local/anaconda3/envs/Thesis/lib/python3.7/site-packages/pandas/core/generic.py\u001b[0m in \u001b[0;36m__getattr__\u001b[0;34m(self, name)\u001b[0m\n\u001b[1;32m   5485\u001b[0m         ):\n\u001b[1;32m   5486\u001b[0m             \u001b[0;32mreturn\u001b[0m \u001b[0mself\u001b[0m\u001b[0;34m[\u001b[0m\u001b[0mname\u001b[0m\u001b[0;34m]\u001b[0m\u001b[0;34m\u001b[0m\u001b[0;34m\u001b[0m\u001b[0m\n\u001b[0;32m-> 5487\u001b[0;31m         \u001b[0;32mreturn\u001b[0m \u001b[0mobject\u001b[0m\u001b[0;34m.\u001b[0m\u001b[0m__getattribute__\u001b[0m\u001b[0;34m(\u001b[0m\u001b[0mself\u001b[0m\u001b[0;34m,\u001b[0m \u001b[0mname\u001b[0m\u001b[0;34m)\u001b[0m\u001b[0;34m\u001b[0m\u001b[0;34m\u001b[0m\u001b[0m\n\u001b[0m\u001b[1;32m   5488\u001b[0m \u001b[0;34m\u001b[0m\u001b[0m\n\u001b[1;32m   5489\u001b[0m     \u001b[0;32mdef\u001b[0m \u001b[0m__setattr__\u001b[0m\u001b[0;34m(\u001b[0m\u001b[0mself\u001b[0m\u001b[0;34m,\u001b[0m \u001b[0mname\u001b[0m\u001b[0;34m:\u001b[0m \u001b[0mstr\u001b[0m\u001b[0;34m,\u001b[0m \u001b[0mvalue\u001b[0m\u001b[0;34m)\u001b[0m \u001b[0;34m->\u001b[0m \u001b[0;32mNone\u001b[0m\u001b[0;34m:\u001b[0m\u001b[0;34m\u001b[0m\u001b[0;34m\u001b[0m\u001b[0m\n",
      "\u001b[0;31mAttributeError\u001b[0m: 'Series' object has no attribute 'melt'"
     ]
    }
   ],
   "source": [
    "stc, temp = doall(\"/Volumes/T7/thesis-data/cells-valueandvalidation/rawexcel/Jiangsu_SF-156M.xlsx\")"
   ]
  },
  {
   "cell_type": "code",
   "execution_count": 21,
   "metadata": {},
   "outputs": [
    {
     "data": {
      "text/html": [
       "<div>\n",
       "<style scoped>\n",
       "    .dataframe tbody tr th:only-of-type {\n",
       "        vertical-align: middle;\n",
       "    }\n",
       "\n",
       "    .dataframe tbody tr th {\n",
       "        vertical-align: top;\n",
       "    }\n",
       "\n",
       "    .dataframe thead th {\n",
       "        text-align: right;\n",
       "    }\n",
       "</style>\n",
       "<table border=\"1\" class=\"dataframe\">\n",
       "  <thead>\n",
       "    <tr style=\"text-align: right;\">\n",
       "      <th></th>\n",
       "      <th>eta / %</th>\n",
       "      <th>ISC / A</th>\n",
       "      <th>VOC / V</th>\n",
       "      <th>IMPP / A</th>\n",
       "      <th>VMPP / V</th>\n",
       "      <th>PMPP / W</th>\n",
       "      <th>Full factor</th>\n",
       "    </tr>\n",
       "  </thead>\n",
       "  <tbody>\n",
       "    <tr>\n",
       "      <th>0</th>\n",
       "      <td>18.60</td>\n",
       "      <td>8.788</td>\n",
       "      <td>0.638</td>\n",
       "      <td>8.276</td>\n",
       "      <td>0.547</td>\n",
       "      <td>4.53</td>\n",
       "      <td>80.80</td>\n",
       "    </tr>\n",
       "    <tr>\n",
       "      <th>1</th>\n",
       "      <td>18.40</td>\n",
       "      <td>8.729</td>\n",
       "      <td>0.638</td>\n",
       "      <td>8.214</td>\n",
       "      <td>0.545</td>\n",
       "      <td>4.48</td>\n",
       "      <td>80.44</td>\n",
       "    </tr>\n",
       "    <tr>\n",
       "      <th>2</th>\n",
       "      <td>18.20</td>\n",
       "      <td>8.667</td>\n",
       "      <td>0.637</td>\n",
       "      <td>8.153</td>\n",
       "      <td>0.543</td>\n",
       "      <td>4.43</td>\n",
       "      <td>80.24</td>\n",
       "    </tr>\n",
       "    <tr>\n",
       "      <th>3</th>\n",
       "      <td>18.00</td>\n",
       "      <td>8.606</td>\n",
       "      <td>0.637</td>\n",
       "      <td>8.091</td>\n",
       "      <td>0.541</td>\n",
       "      <td>4.38</td>\n",
       "      <td>79.90</td>\n",
       "    </tr>\n",
       "    <tr>\n",
       "      <th>4</th>\n",
       "      <td>17.80</td>\n",
       "      <td>8.567</td>\n",
       "      <td>0.635</td>\n",
       "      <td>8.043</td>\n",
       "      <td>0.538</td>\n",
       "      <td>4.33</td>\n",
       "      <td>79.59</td>\n",
       "    </tr>\n",
       "    <tr>\n",
       "      <th>5</th>\n",
       "      <td>17.60</td>\n",
       "      <td>8.536</td>\n",
       "      <td>0.633</td>\n",
       "      <td>7.995</td>\n",
       "      <td>0.535</td>\n",
       "      <td>4.28</td>\n",
       "      <td>79.21</td>\n",
       "    </tr>\n",
       "    <tr>\n",
       "      <th>6</th>\n",
       "      <td>17.40</td>\n",
       "      <td>8.512</td>\n",
       "      <td>0.631</td>\n",
       "      <td>7.946</td>\n",
       "      <td>0.532</td>\n",
       "      <td>4.23</td>\n",
       "      <td>78.76</td>\n",
       "    </tr>\n",
       "    <tr>\n",
       "      <th>7</th>\n",
       "      <td>17.20</td>\n",
       "      <td>8.473</td>\n",
       "      <td>0.628</td>\n",
       "      <td>7.916</td>\n",
       "      <td>0.529</td>\n",
       "      <td>4.19</td>\n",
       "      <td>78.74</td>\n",
       "    </tr>\n",
       "    <tr>\n",
       "      <th>8</th>\n",
       "      <td>17.00</td>\n",
       "      <td>8.431</td>\n",
       "      <td>0.626</td>\n",
       "      <td>7.866</td>\n",
       "      <td>0.526</td>\n",
       "      <td>4.14</td>\n",
       "      <td>78.44</td>\n",
       "    </tr>\n",
       "  </tbody>\n",
       "</table>\n",
       "</div>"
      ],
      "text/plain": [
       "  eta / % ISC / A VOC / V IMPP / A VMPP / V PMPP / W Full factor\n",
       "0   18.60   8.788   0.638    8.276    0.547     4.53       80.80\n",
       "1   18.40   8.729   0.638    8.214    0.545     4.48       80.44\n",
       "2   18.20   8.667   0.637    8.153    0.543     4.43       80.24\n",
       "3   18.00   8.606   0.637    8.091    0.541     4.38       79.90\n",
       "4   17.80   8.567   0.635    8.043    0.538     4.33       79.59\n",
       "5   17.60   8.536   0.633    7.995    0.535     4.28       79.21\n",
       "6   17.40   8.512   0.631    7.946    0.532     4.23       78.76\n",
       "7   17.20   8.473   0.628    7.916    0.529     4.19       78.74\n",
       "8   17.00   8.431   0.626    7.866    0.526     4.14       78.44"
      ]
     },
     "execution_count": 21,
     "metadata": {},
     "output_type": "execute_result"
    }
   ],
   "source": [
    "stc"
   ]
  },
  {
   "cell_type": "code",
   "execution_count": 32,
   "metadata": {},
   "outputs": [
    {
     "name": "stdout",
     "output_type": "stream",
     "text": [
      "-0.36\n"
     ]
    },
    {
     "data": {
      "text/html": [
       "<div>\n",
       "<style scoped>\n",
       "    .dataframe tbody tr th:only-of-type {\n",
       "        vertical-align: middle;\n",
       "    }\n",
       "\n",
       "    .dataframe tbody tr th {\n",
       "        vertical-align: top;\n",
       "    }\n",
       "\n",
       "    .dataframe thead th {\n",
       "        text-align: right;\n",
       "    }\n",
       "</style>\n",
       "<table border=\"1\" class=\"dataframe\">\n",
       "  <thead>\n",
       "    <tr style=\"text-align: right;\">\n",
       "      <th></th>\n",
       "      <th>T_VOC/%</th>\n",
       "      <th>T_ISC/%</th>\n",
       "      <th>T_PMPP/%</th>\n",
       "    </tr>\n",
       "  </thead>\n",
       "  <tbody>\n",
       "    <tr>\n",
       "      <th>0</th>\n",
       "      <td>-0.36</td>\n",
       "      <td>0.07</td>\n",
       "      <td>-0.38</td>\n",
       "    </tr>\n",
       "  </tbody>\n",
       "</table>\n",
       "</div>"
      ],
      "text/plain": [
       "  T_VOC/% T_ISC/% T_PMPP/%\n",
       "0   -0.36    0.07    -0.38"
      ]
     },
     "execution_count": 32,
     "metadata": {},
     "output_type": "execute_result"
    }
   ],
   "source": [
    "\n",
    "print(float(temp['T_VOC/%'].tolist()[0]))\n",
    "\n",
    "temp"
   ]
  },
  {
   "cell_type": "code",
   "execution_count": null,
   "metadata": {},
   "outputs": [],
   "source": []
  }
 ],
 "metadata": {
  "kernelspec": {
   "display_name": "Thesis",
   "language": "python",
   "name": "python3"
  },
  "language_info": {
   "codemirror_mode": {
    "name": "ipython",
    "version": 3
   },
   "file_extension": ".py",
   "mimetype": "text/x-python",
   "name": "python",
   "nbconvert_exporter": "python",
   "pygments_lexer": "ipython3",
   "version": "3.7.15 (default, Nov 24 2022, 12:02:37) \n[Clang 14.0.6 ]"
  },
  "orig_nbformat": 4,
  "vscode": {
   "interpreter": {
    "hash": "65aa49fd346b65e227272bb7d1218f3084fee0c005b33390f58f3181d148085d"
   }
  }
 },
 "nbformat": 4,
 "nbformat_minor": 2
}
